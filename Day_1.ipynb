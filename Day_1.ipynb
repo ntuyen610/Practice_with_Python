{
  "nbformat": 4,
  "nbformat_minor": 0,
  "metadata": {
    "colab": {
      "provenance": []
    },
    "kernelspec": {
      "name": "python3",
      "display_name": "Python 3"
    },
    "language_info": {
      "name": "python"
    }
  },
  "cells": [
    {
      "cell_type": "code",
      "execution_count": 5,
      "metadata": {
        "id": "X8gI5VT7Srn1"
      },
      "outputs": [],
      "source": [
        "def calculate_can_chi_calendar(year):\n",
        "\n",
        "  # Calculate can\n",
        "  can = year % 10\n",
        "  if can == 0:\n",
        "    can = \"Canh\"\n",
        "  elif can == 1:\n",
        "    can = \"Tan\"\n",
        "  elif can == 2:\n",
        "    can = \"Nham\"\n",
        "  elif can == 3:\n",
        "    can = \"Quy\"\n",
        "  elif can == 4:\n",
        "    can = \"Giap\"\n",
        "  elif can == 5:\n",
        "    can = \"At\"\n",
        "  elif can == 6:\n",
        "    can = \"Binh\"\n",
        "  elif can == 7:\n",
        "    can = \"Dinh\"\n",
        "  elif can == 8:\n",
        "    can = \"Mau\"\n",
        "  else:\n",
        "    can = \"Ky\"\n",
        "\n",
        "\n",
        "  # Calculate chi\n",
        "  chi = year % 12\n",
        "  if chi == 0:\n",
        "    chi = \"Than\"\n",
        "  elif chi == 1:\n",
        "     chi = \"Dau\"\n",
        "  elif chi == 2:\n",
        "     chi = \"Tuat\"\n",
        "  elif chi == 3:\n",
        "     chi = \"Hoi\"\n",
        "  elif chi == 4:\n",
        "     chi = \"Ty\"\n",
        "  elif chi == 5:\n",
        "     chi = \"Suu\"\n",
        "  elif chi == 6:\n",
        "     chi = \"Dan\"\n",
        "  elif chi == 7:\n",
        "     chi = \"Meo\"\n",
        "  elif chi == 8:\n",
        "     chi = \"Thin\"\n",
        "  elif chi == 9:\n",
        "     chi = \"Ty\"\n",
        "  elif chi == 10:\n",
        "     chi = \"Ngo\"\n",
        "  else: chi = \"Mui\"\n",
        "\n",
        "\n",
        "  result = can + \" \" + chi\n",
        "  return result"
      ]
    },
    {
      "cell_type": "code",
      "source": [
        "print(calculate_can_chi_calendar(2023))"
      ],
      "metadata": {
        "colab": {
          "base_uri": "https://localhost:8080/"
        },
        "id": "sLBriVeZV8UT",
        "outputId": "e6c167c4-4fd6-47f0-e84e-f836008e5cfc"
      },
      "execution_count": 6,
      "outputs": [
        {
          "output_type": "stream",
          "name": "stdout",
          "text": [
            "Quy Meo\n"
          ]
        }
      ]
    },
    {
      "cell_type": "code",
      "source": [
        "def calculate_can_chi_calendar2(year):\n",
        "  lst_can = ['Canh', 'Tan', 'Nham', 'Quy', 'Giap', 'At', 'Binh', 'Dinh', 'Mau', 'Ki']\n",
        "  lst_chi = ['Than', 'Dau', 'Tuat', 'Hoi', 'Ty', 'Suu', 'Dan', 'Meo', 'Thin', 'Ty', 'Ngo', 'Mui']\n",
        "\n",
        "  can_index = year % 10\n",
        "  chi_index = year % 12\n",
        "\n",
        "  result = lst_can[can_index] + ' ' + lst_chi[chi_index]\n",
        "  return result"
      ],
      "metadata": {
        "id": "6vnH0Rn5WB4E"
      },
      "execution_count": 7,
      "outputs": []
    },
    {
      "cell_type": "code",
      "source": [
        "print(calculate_can_chi_calendar2(2023))"
      ],
      "metadata": {
        "colab": {
          "base_uri": "https://localhost:8080/"
        },
        "id": "6nxO3V-VYx9F",
        "outputId": "0f0a1c99-3091-4833-9ddd-85c7093d4bf6"
      },
      "execution_count": 8,
      "outputs": [
        {
          "output_type": "stream",
          "name": "stdout",
          "text": [
            "Quy Meo\n"
          ]
        }
      ]
    },
    {
      "cell_type": "code",
      "source": [],
      "metadata": {
        "id": "yYKjQFF7Yz7a"
      },
      "execution_count": null,
      "outputs": []
    }
  ]
}