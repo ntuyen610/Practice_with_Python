{
  "nbformat": 4,
  "nbformat_minor": 0,
  "metadata": {
    "colab": {
      "provenance": [],
      "authorship_tag": "ABX9TyMbiXyQ6MQcodlnavx4bwY+",
      "include_colab_link": true
    },
    "kernelspec": {
      "name": "python3",
      "display_name": "Python 3"
    },
    "language_info": {
      "name": "python"
    }
  },
  "cells": [
    {
      "cell_type": "markdown",
      "metadata": {
        "id": "view-in-github",
        "colab_type": "text"
      },
      "source": [
        "<a href=\"https://colab.research.google.com/github/ntuyen610/Practice_with_Python/blob/main/Day_23_.ipynb\" target=\"_parent\"><img src=\"https://colab.research.google.com/assets/colab-badge.svg\" alt=\"Open In Colab\"/></a>"
      ]
    },
    {
      "cell_type": "code",
      "execution_count": 1,
      "metadata": {
        "id": "BmGhKuHPpYvB"
      },
      "outputs": [],
      "source": [
        "import numpy as np\n",
        "import torch\n",
        "import tensorflow as tf"
      ]
    },
    {
      "cell_type": "markdown",
      "source": [
        "- arrange, range:\n",
        "- eye: tao ma tran vuong voi duong cheo = 1, con lai = 0\n",
        "- random: tạo mảng với giá trị random từ [0,1], với shape chỉ định\n",
        "- randint: tạo mảng với số nguyên ngẫu nhiên\n",
        "- Với Tensorflow, sử dụng hàm random.uniform"
      ],
      "metadata": {
        "id": "3F_XxXWkppkB"
      }
    },
    {
      "cell_type": "code",
      "source": [
        "# Câu 1:\n",
        "print(np.arange(0,10,1))\n",
        "print(torch.arange(0,10,1))\n",
        "print(tf.range(0,10,1))\n"
      ],
      "metadata": {
        "colab": {
          "base_uri": "https://localhost:8080/"
        },
        "id": "I6APA8ZjqXJ-",
        "outputId": "b1fc22ed-2acc-41bb-d726-151742a50ea4"
      },
      "execution_count": 5,
      "outputs": [
        {
          "output_type": "stream",
          "name": "stdout",
          "text": [
            "[0 1 2 3 4 5 6 7 8 9]\n",
            "tensor([0, 1, 2, 3, 4, 5, 6, 7, 8, 9])\n",
            "tf.Tensor([0 1 2 3 4 5 6 7 8 9], shape=(10,), dtype=int32)\n"
          ]
        }
      ]
    },
    {
      "cell_type": "code",
      "source": [
        "#Cau 2:\n",
        "print(np.eye(3,3))\n",
        "print(torch.eye(3,3))\n",
        "print(tf.eye(3,3))"
      ],
      "metadata": {
        "colab": {
          "base_uri": "https://localhost:8080/"
        },
        "id": "S0ixAANdqrP1",
        "outputId": "17d9b869-5a64-4e76-a4d7-ffd1e20800ef"
      },
      "execution_count": 6,
      "outputs": [
        {
          "output_type": "stream",
          "name": "stdout",
          "text": [
            "[[1. 0. 0.]\n",
            " [0. 1. 0.]\n",
            " [0. 0. 1.]]\n",
            "tensor([[1., 0., 0.],\n",
            "        [0., 1., 0.],\n",
            "        [0., 0., 1.]])\n",
            "tf.Tensor(\n",
            "[[1. 0. 0.]\n",
            " [0. 1. 0.]\n",
            " [0. 0. 1.]], shape=(3, 3), dtype=float32)\n"
          ]
        }
      ]
    },
    {
      "cell_type": "code",
      "source": [
        "#Cau 3:\n",
        "\n",
        "#Đặt seed để kết quả ngẫu nhiên có thể tái tạo được\n",
        "np.random.seed(2024)\n",
        "\n",
        "#Tạo matrix (3,4) có số ngẫu nhiên từ (0,1)\n",
        "print(np.random.rand(3,4))\n",
        "\n",
        "#Tạo matrix (3,4) có số ngẫu nhiên từ (-10,10)\n",
        "print(np.random.randint(-10, 10, (3,4)))"
      ],
      "metadata": {
        "colab": {
          "base_uri": "https://localhost:8080/"
        },
        "id": "GE-APIgirIFs",
        "outputId": "a5e6328d-99b1-475f-adde-7710a3f191d4"
      },
      "execution_count": 10,
      "outputs": [
        {
          "output_type": "stream",
          "name": "stdout",
          "text": [
            "[[0.58801452 0.69910875 0.18815196 0.04380856]\n",
            " [0.20501895 0.10606287 0.72724014 0.67940052]\n",
            " [0.4738457  0.44829582 0.01910695 0.75259834]]\n",
            "[[ 5  1 -3  8]\n",
            " [-1 -4  0 -9]\n",
            " [-5  9 -6 -2]]\n"
          ]
        }
      ]
    },
    {
      "cell_type": "code",
      "source": [
        "#For torch\n",
        "torch.manual_seed(2024)\n",
        "\n",
        "print(torch.rand(3,4))\n",
        "\n",
        "print(torch.randint(-10, 10, (3,4)))"
      ],
      "metadata": {
        "colab": {
          "base_uri": "https://localhost:8080/"
        },
        "id": "n8yCJ5b9ruwL",
        "outputId": "4eaf7f2f-cab6-49b1-e6de-d75fb5e4124d"
      },
      "execution_count": 20,
      "outputs": [
        {
          "output_type": "stream",
          "name": "stdout",
          "text": [
            "tensor([[0.5317, 0.8313, 0.9718, 0.1193],\n",
            "        [0.1669, 0.3495, 0.2150, 0.6201],\n",
            "        [0.4849, 0.7492, 0.1521, 0.5625]])\n",
            "tensor([[  1,   8,   0,  -2],\n",
            "        [ -9, -10,  -9,   0],\n",
            "        [ -3,  -7,  -4,   8]])\n"
          ]
        }
      ]
    },
    {
      "cell_type": "code",
      "source": [
        "#For tensorflow\n",
        "\n",
        "tf.random.set_seed(2024)\n",
        "\n",
        "print(tf.random.uniform((3,4)))\n",
        "\n",
        "print(tf.random.uniform((3,4), minval = -10, maxval = 10, dtype = tf.dtypes.int32))\n"
      ],
      "metadata": {
        "colab": {
          "base_uri": "https://localhost:8080/"
        },
        "id": "aqNkfk_8tUfY",
        "outputId": "ee8bbfe8-b277-41e6-b1dd-38dd5ea25d74"
      },
      "execution_count": 30,
      "outputs": [
        {
          "output_type": "stream",
          "name": "stdout",
          "text": [
            "tf.Tensor(\n",
            "[[0.90034294 0.19453335 0.36069036 0.66361904]\n",
            " [0.76605344 0.2159369  0.6261736  0.07380784]\n",
            " [0.22062695 0.934368   0.93327904 0.69267046]], shape=(3, 4), dtype=float32)\n",
            "tf.Tensor(\n",
            "[[-3 -7  9  3]\n",
            " [ 2 -5 -3 -5]\n",
            " [ 4 -3 -3  5]], shape=(3, 4), dtype=int32)\n"
          ]
        }
      ]
    },
    {
      "cell_type": "code",
      "source": [],
      "metadata": {
        "id": "7cAr5VgNuDwg"
      },
      "execution_count": null,
      "outputs": []
    }
  ]
}