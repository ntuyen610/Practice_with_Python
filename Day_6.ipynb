{
  "nbformat": 4,
  "nbformat_minor": 0,
  "metadata": {
    "colab": {
      "provenance": [],
      "authorship_tag": "ABX9TyOrpyHutJaczFfAt/tZrqYA",
      "include_colab_link": true
    },
    "kernelspec": {
      "name": "python3",
      "display_name": "Python 3"
    },
    "language_info": {
      "name": "python"
    }
  },
  "cells": [
    {
      "cell_type": "markdown",
      "metadata": {
        "id": "view-in-github",
        "colab_type": "text"
      },
      "source": [
        "<a href=\"https://colab.research.google.com/github/ntuyen610/Practice_with_Python/blob/main/Day_6.ipynb\" target=\"_parent\"><img src=\"https://colab.research.google.com/assets/colab-badge.svg\" alt=\"Open In Colab\"/></a>"
      ]
    },
    {
      "cell_type": "code",
      "execution_count": 2,
      "metadata": {
        "colab": {
          "base_uri": "https://localhost:8080/"
        },
        "id": "-kXcKkAXXXsf",
        "outputId": "1a667d0c-c3dd-43dc-bfb6-4d3de04d2f9e"
      },
      "outputs": [
        {
          "output_type": "stream",
          "name": "stdout",
          "text": [
            "Input time: 7AM\n",
            "Work\n"
          ]
        }
      ],
      "source": [
        "time = input(\"Input time: \")\n",
        "if time == '5AM':\n",
        "  print(\"Wake up\")\n",
        "elif time == '6AM':\n",
        "  print('Yoga')\n",
        "elif time == '7AM':\n",
        "  print('Work')\n",
        "else:\n",
        "  print(\"Do something!\")"
      ]
    },
    {
      "cell_type": "code",
      "source": [
        "#Method 2\n",
        "todo = {\"5AM\": \"Wakeup\",\n",
        "        \"6AM\": \"Yoga\",\n",
        "        \"7AM\": \"Work\"\n",
        "}\n",
        "time = input(\"Input time: \")\n",
        "todo.get(time, \"do something!\")"
      ],
      "metadata": {
        "colab": {
          "base_uri": "https://localhost:8080/",
          "height": 53
        },
        "id": "Fd0phj80Yci1",
        "outputId": "8bf1ab16-bab4-4396-bbcc-9609c971b45d"
      },
      "execution_count": 3,
      "outputs": [
        {
          "name": "stdout",
          "output_type": "stream",
          "text": [
            "Input time: 5AM\n"
          ]
        },
        {
          "output_type": "execute_result",
          "data": {
            "text/plain": [
              "'Wakeup'"
            ],
            "application/vnd.google.colaboratory.intrinsic+json": {
              "type": "string"
            }
          },
          "metadata": {},
          "execution_count": 3
        }
      ]
    },
    {
      "cell_type": "code",
      "source": [
        "#Method 3: Match case\n",
        "time = input(\"Input time: \")\n",
        "match time:\n",
        "  case \"5AM\":\n",
        "    print(\"Wake up\")\n",
        "  case \"6AM\":\n",
        "    print(\"Yoga\")\n",
        "  case \"7AM\":\n",
        "    print(\"Work\")\n",
        "  case _:\n",
        "    print(\"do something!\")"
      ],
      "metadata": {
        "colab": {
          "base_uri": "https://localhost:8080/"
        },
        "id": "7nNShJi_ZKWX",
        "outputId": "a15fd868-a06b-4f3e-fc6e-775bc38f97be"
      },
      "execution_count": 4,
      "outputs": [
        {
          "output_type": "stream",
          "name": "stdout",
          "text": [
            "Input time: 6AM\n",
            "Yoga\n"
          ]
        }
      ]
    },
    {
      "cell_type": "code",
      "source": [],
      "metadata": {
        "id": "lKJsdXibZudV"
      },
      "execution_count": null,
      "outputs": []
    }
  ]
}