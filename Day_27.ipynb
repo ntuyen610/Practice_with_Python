{
  "nbformat": 4,
  "nbformat_minor": 0,
  "metadata": {
    "colab": {
      "provenance": [],
      "authorship_tag": "ABX9TyNP42fofoiZodhlYsbKyJm1",
      "include_colab_link": true
    },
    "kernelspec": {
      "name": "python3",
      "display_name": "Python 3"
    },
    "language_info": {
      "name": "python"
    }
  },
  "cells": [
    {
      "cell_type": "markdown",
      "metadata": {
        "id": "view-in-github",
        "colab_type": "text"
      },
      "source": [
        "<a href=\"https://colab.research.google.com/github/ntuyen610/Practice_with_Python/blob/main/Day_27.ipynb\" target=\"_parent\"><img src=\"https://colab.research.google.com/assets/colab-badge.svg\" alt=\"Open In Colab\"/></a>"
      ]
    },
    {
      "cell_type": "code",
      "execution_count": 1,
      "metadata": {
        "colab": {
          "base_uri": "https://localhost:8080/"
        },
        "id": "hBi_22XNoFfL",
        "outputId": "93f6f6b0-d6d7-4248-8235-e079645b1bae"
      },
      "outputs": [
        {
          "output_type": "stream",
          "name": "stdout",
          "text": [
            "Collecting underthesea\n",
            "  Downloading underthesea-6.8.0-py3-none-any.whl (20.9 MB)\n",
            "\u001b[2K     \u001b[90m━━━━━━━━━━━━━━━━━━━━━━━━━━━━━━━━━━━━━━━━\u001b[0m \u001b[32m20.9/20.9 MB\u001b[0m \u001b[31m24.7 MB/s\u001b[0m eta \u001b[36m0:00:00\u001b[0m\n",
            "\u001b[?25hRequirement already satisfied: Click>=6.0 in /usr/local/lib/python3.10/dist-packages (from underthesea) (8.1.7)\n",
            "Collecting python-crfsuite>=0.9.6 (from underthesea)\n",
            "  Downloading python_crfsuite-0.9.10-cp310-cp310-manylinux_2_17_x86_64.manylinux2014_x86_64.whl (1.1 MB)\n",
            "\u001b[2K     \u001b[90m━━━━━━━━━━━━━━━━━━━━━━━━━━━━━━━━━━━━━━━━\u001b[0m \u001b[32m1.1/1.1 MB\u001b[0m \u001b[31m39.8 MB/s\u001b[0m eta \u001b[36m0:00:00\u001b[0m\n",
            "\u001b[?25hRequirement already satisfied: nltk in /usr/local/lib/python3.10/dist-packages (from underthesea) (3.8.1)\n",
            "Requirement already satisfied: tqdm in /usr/local/lib/python3.10/dist-packages (from underthesea) (4.66.2)\n",
            "Requirement already satisfied: requests in /usr/local/lib/python3.10/dist-packages (from underthesea) (2.31.0)\n",
            "Requirement already satisfied: joblib in /usr/local/lib/python3.10/dist-packages (from underthesea) (1.3.2)\n",
            "Requirement already satisfied: scikit-learn in /usr/local/lib/python3.10/dist-packages (from underthesea) (1.2.2)\n",
            "Requirement already satisfied: PyYAML in /usr/local/lib/python3.10/dist-packages (from underthesea) (6.0.1)\n",
            "Collecting underthesea-core==1.0.4 (from underthesea)\n",
            "  Downloading underthesea_core-1.0.4-cp310-cp310-manylinux2010_x86_64.whl (657 kB)\n",
            "\u001b[2K     \u001b[90m━━━━━━━━━━━━━━━━━━━━━━━━━━━━━━━━━━━━━━━━\u001b[0m \u001b[32m657.8/657.8 kB\u001b[0m \u001b[31m25.3 MB/s\u001b[0m eta \u001b[36m0:00:00\u001b[0m\n",
            "\u001b[?25hRequirement already satisfied: regex>=2021.8.3 in /usr/local/lib/python3.10/dist-packages (from nltk->underthesea) (2023.12.25)\n",
            "Requirement already satisfied: charset-normalizer<4,>=2 in /usr/local/lib/python3.10/dist-packages (from requests->underthesea) (3.3.2)\n",
            "Requirement already satisfied: idna<4,>=2.5 in /usr/local/lib/python3.10/dist-packages (from requests->underthesea) (3.6)\n",
            "Requirement already satisfied: urllib3<3,>=1.21.1 in /usr/local/lib/python3.10/dist-packages (from requests->underthesea) (2.0.7)\n",
            "Requirement already satisfied: certifi>=2017.4.17 in /usr/local/lib/python3.10/dist-packages (from requests->underthesea) (2024.2.2)\n",
            "Requirement already satisfied: numpy>=1.17.3 in /usr/local/lib/python3.10/dist-packages (from scikit-learn->underthesea) (1.25.2)\n",
            "Requirement already satisfied: scipy>=1.3.2 in /usr/local/lib/python3.10/dist-packages (from scikit-learn->underthesea) (1.11.4)\n",
            "Requirement already satisfied: threadpoolctl>=2.0.0 in /usr/local/lib/python3.10/dist-packages (from scikit-learn->underthesea) (3.3.0)\n",
            "Installing collected packages: underthesea-core, python-crfsuite, underthesea\n",
            "Successfully installed python-crfsuite-0.9.10 underthesea-6.8.0 underthesea-core-1.0.4\n"
          ]
        }
      ],
      "source": [
        "!pip install underthesea"
      ]
    },
    {
      "cell_type": "code",
      "source": [],
      "metadata": {
        "id": "6wdKlS9ioT7l"
      },
      "execution_count": null,
      "outputs": []
    },
    {
      "cell_type": "markdown",
      "source": [
        "**Tính năng của Undersea:**  \n",
        "\n",
        "*   Phân chia câu\n",
        "*   Phân chia từ\n",
        "*   Gắn thẻ POS: gắn thẻ ngữ pháp cho mỗi từ (N, V, A)\n",
        "*   Nhận dạng thực thể tên riêng\n",
        "*   Phân loại tên riêng\n",
        "*   Tóm tắt văn bản\n",
        "*   Trích xuất quan điểm\n",
        "*   Dịch máy\n",
        "\n",
        "\n",
        "\n",
        "\n",
        "\n",
        "\n",
        "\n"
      ],
      "metadata": {
        "id": "tpTWsdFBoiNc"
      }
    },
    {
      "cell_type": "code",
      "source": [
        "paragraph = \"Công cụ Suno AI nhanh chóng nhận được sự chú ý từ người dùng khi có thể tạo bài hát chỉ với vài câu lệnh. Phiên bản mới nhất V3 Alpha mới được giới thiệu cuối tháng 2, có bản miễn phí với 10 bài hát mỗi ngày.\"\n",
        "print(paragraph)"
      ],
      "metadata": {
        "colab": {
          "base_uri": "https://localhost:8080/"
        },
        "id": "Jxzltk_2qJOK",
        "outputId": "51f69916-709b-40df-d445-eb6cc13d61f1"
      },
      "execution_count": 6,
      "outputs": [
        {
          "output_type": "stream",
          "name": "stdout",
          "text": [
            "Công cụ Suno AI nhanh chóng nhận được sự chú ý từ người dùng khi có thể tạo bài hát chỉ với vài câu lệnh. Phiên bản mới nhất V3 Alpha mới được giới thiệu cuối tháng 2, có bản miễn phí với 10 bài hát mỗi ngày.\n"
          ]
        }
      ]
    },
    {
      "cell_type": "code",
      "source": [
        "#Gan nhan tu loai\n",
        "from underthesea import pos_tag\n",
        "pos_tag(paragraph)"
      ],
      "metadata": {
        "colab": {
          "base_uri": "https://localhost:8080/"
        },
        "id": "fnfJPXisop4D",
        "outputId": "692b0bec-702a-40b1-e1b1-c577af93546c"
      },
      "execution_count": 7,
      "outputs": [
        {
          "output_type": "execute_result",
          "data": {
            "text/plain": [
              "[('Công cụ', 'N'),\n",
              " ('Suno', 'Np'),\n",
              " ('AI', 'P'),\n",
              " ('nhanh chóng', 'A'),\n",
              " ('nhận', 'V'),\n",
              " ('được', 'R'),\n",
              " ('sự', 'N'),\n",
              " ('chú ý', 'V'),\n",
              " ('từ', 'E'),\n",
              " ('người', 'N'),\n",
              " ('dùng', 'V'),\n",
              " ('khi', 'N'),\n",
              " ('có thể', 'R'),\n",
              " ('tạo', 'V'),\n",
              " ('bài', 'N'),\n",
              " ('hát', 'V'),\n",
              " ('chỉ', 'R'),\n",
              " ('với', 'E'),\n",
              " ('vài', 'L'),\n",
              " ('câu', 'N'),\n",
              " ('lệnh', 'N'),\n",
              " ('.', 'CH'),\n",
              " ('Phiên bản', 'V'),\n",
              " ('mới', 'A'),\n",
              " ('nhất', 'A'),\n",
              " ('V3 Alpha', 'Np'),\n",
              " ('mới', 'R'),\n",
              " ('được', 'V'),\n",
              " ('giới thiệu', 'V'),\n",
              " ('cuối', 'N'),\n",
              " ('tháng', 'N'),\n",
              " ('2', 'M'),\n",
              " (',', 'CH'),\n",
              " ('có', 'V'),\n",
              " ('bản', 'N'),\n",
              " ('miễn phí', 'V'),\n",
              " ('với', 'E'),\n",
              " ('10', 'M'),\n",
              " ('bài', 'N'),\n",
              " ('hát', 'V'),\n",
              " ('mỗi', 'L'),\n",
              " ('ngày', 'N'),\n",
              " ('.', 'CH')]"
            ]
          },
          "metadata": {},
          "execution_count": 7
        }
      ]
    },
    {
      "cell_type": "code",
      "source": [
        "#Phan loai van ban (text classification)\n",
        "from underthesea import classify\n",
        "classify(paragraph)"
      ],
      "metadata": {
        "colab": {
          "base_uri": "https://localhost:8080/"
        },
        "id": "_FdoJhhgqeAi",
        "outputId": "c0599999-427a-4d03-d9f8-dde93eb49b41"
      },
      "execution_count": 10,
      "outputs": [
        {
          "output_type": "execute_result",
          "data": {
            "text/plain": [
              "['vi_tinh']"
            ]
          },
          "metadata": {},
          "execution_count": 10
        }
      ]
    },
    {
      "cell_type": "code",
      "source": [
        "#Phan loai cam xuc (Sentiment Analysis)\n",
        "from underthesea import sentiment\n",
        "sentiment(paragraph)"
      ],
      "metadata": {
        "colab": {
          "base_uri": "https://localhost:8080/",
          "height": 35
        },
        "id": "sf8ov-NVrCfS",
        "outputId": "cf432635-8267-4876-db13-0fcfb831819e"
      },
      "execution_count": 12,
      "outputs": [
        {
          "output_type": "execute_result",
          "data": {
            "text/plain": [
              "'positive'"
            ],
            "application/vnd.google.colaboratory.intrinsic+json": {
              "type": "string"
            }
          },
          "metadata": {},
          "execution_count": 12
        }
      ]
    },
    {
      "cell_type": "code",
      "source": [
        "#Phan loai cau van (Sentence Segmentation)\n",
        "from underthesea import sent_tokenize\n",
        "sent_tokenize(paragraph)"
      ],
      "metadata": {
        "colab": {
          "base_uri": "https://localhost:8080/"
        },
        "id": "kCD6rJf_rZmM",
        "outputId": "840a4fb7-bee9-44d4-8044-7eae16e38b62"
      },
      "execution_count": 13,
      "outputs": [
        {
          "output_type": "execute_result",
          "data": {
            "text/plain": [
              "['Công cụ Suno AI nhanh chóng nhận được sự chú ý từ người dùng khi có thể tạo bài hát chỉ với vài câu lệnh.',\n",
              " 'Phiên bản mới nhất V3 Alpha mới được giới thiệu cuối tháng 2, có bản miễn phí với 10 bài hát mỗi ngày.']"
            ]
          },
          "metadata": {},
          "execution_count": 13
        }
      ]
    },
    {
      "cell_type": "code",
      "source": [
        "#Phan loai tu ngu (Word Segmentation)\n",
        "from underthesea import word_tokenize\n",
        "word_tokenize(paragraph)"
      ],
      "metadata": {
        "colab": {
          "base_uri": "https://localhost:8080/"
        },
        "id": "BZRnDKEfr0p5",
        "outputId": "bf69b61d-3521-467d-d7ee-b6b85ba06d9a"
      },
      "execution_count": 14,
      "outputs": [
        {
          "output_type": "execute_result",
          "data": {
            "text/plain": [
              "['Công cụ',\n",
              " 'Suno',\n",
              " 'AI',\n",
              " 'nhanh chóng',\n",
              " 'nhận',\n",
              " 'được',\n",
              " 'sự',\n",
              " 'chú ý',\n",
              " 'từ',\n",
              " 'người',\n",
              " 'dùng',\n",
              " 'khi',\n",
              " 'có thể',\n",
              " 'tạo',\n",
              " 'bài',\n",
              " 'hát',\n",
              " 'chỉ',\n",
              " 'với',\n",
              " 'vài',\n",
              " 'câu',\n",
              " 'lệnh',\n",
              " '.',\n",
              " 'Phiên bản',\n",
              " 'mới',\n",
              " 'nhất',\n",
              " 'V3 Alpha',\n",
              " 'mới',\n",
              " 'được',\n",
              " 'giới thiệu',\n",
              " 'cuối',\n",
              " 'tháng',\n",
              " '2',\n",
              " ',',\n",
              " 'có',\n",
              " 'bản',\n",
              " 'miễn phí',\n",
              " 'với',\n",
              " '10',\n",
              " 'bài',\n",
              " 'hát',\n",
              " 'mỗi',\n",
              " 'ngày',\n",
              " '.']"
            ]
          },
          "metadata": {},
          "execution_count": 14
        }
      ]
    },
    {
      "cell_type": "code",
      "source": [],
      "metadata": {
        "id": "GK3FOfWlsDyV"
      },
      "execution_count": null,
      "outputs": []
    }
  ]
}