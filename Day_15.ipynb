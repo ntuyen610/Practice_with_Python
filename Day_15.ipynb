{
  "nbformat": 4,
  "nbformat_minor": 0,
  "metadata": {
    "colab": {
      "provenance": [],
      "authorship_tag": "ABX9TyMBwV4jUAJjNogNu/GYByif",
      "include_colab_link": true
    },
    "kernelspec": {
      "name": "python3",
      "display_name": "Python 3"
    },
    "language_info": {
      "name": "python"
    }
  },
  "cells": [
    {
      "cell_type": "markdown",
      "metadata": {
        "id": "view-in-github",
        "colab_type": "text"
      },
      "source": [
        "<a href=\"https://colab.research.google.com/github/ntuyen610/Practice_with_Python/blob/main/Day_15.ipynb\" target=\"_parent\"><img src=\"https://colab.research.google.com/assets/colab-badge.svg\" alt=\"Open In Colab\"/></a>"
      ]
    },
    {
      "cell_type": "code",
      "execution_count": 1,
      "metadata": {
        "id": "nWoF5zDDDOPa"
      },
      "outputs": [],
      "source": [
        "lst_data = [1, 1.1, None, 1.4, None, 1.5, None, 2.0]"
      ]
    },
    {
      "cell_type": "code",
      "source": [
        "def fill_missing_data(lst_data):\n",
        "\n",
        "  for index in range(len(lst_data)):\n",
        "    i = lst_data[index]\n",
        "\n",
        "    if i == None:\n",
        "      if index == 0:\n",
        "        k = index\n",
        "        while k < len(lst_data) and  lst_data[k] == None:\n",
        "          k = k + 1\n",
        "          lst_data[index] = lst_data[k]\n",
        "\n",
        "      elif index != 0:\n",
        "        k = index\n",
        "        while k > 0 and lst_data[k] == None:\n",
        "          k = k -1\n",
        "          lst_data[index] = lst_data[k]\n",
        "\n",
        "  print(lst_data)"
      ],
      "metadata": {
        "id": "7RGA4hbNDZWB"
      },
      "execution_count": 6,
      "outputs": []
    },
    {
      "cell_type": "code",
      "source": [
        "fill_missing_data(lst_data)"
      ],
      "metadata": {
        "colab": {
          "base_uri": "https://localhost:8080/"
        },
        "id": "wCMm4MYZGuOa",
        "outputId": "a65f5864-5f68-4ee3-f0c3-27bfdb48f337"
      },
      "execution_count": 7,
      "outputs": [
        {
          "output_type": "stream",
          "name": "stdout",
          "text": [
            "[1, 1.1, 1.1, 1.4, 1.4, 1.5, 1.5, 2.0]\n"
          ]
        }
      ]
    },
    {
      "cell_type": "code",
      "source": [
        "fill_missing_data([None, 1, 2, None, 3, 4, None])"
      ],
      "metadata": {
        "colab": {
          "base_uri": "https://localhost:8080/"
        },
        "id": "VYtHGqdkGyNK",
        "outputId": "7e3e7203-d15b-45ba-9d96-f583b0440820"
      },
      "execution_count": 8,
      "outputs": [
        {
          "output_type": "stream",
          "name": "stdout",
          "text": [
            "[1, 1, 2, 2, 3, 4, 4]\n"
          ]
        }
      ]
    }
  ]
}