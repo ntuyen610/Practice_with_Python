{
  "nbformat": 4,
  "nbformat_minor": 0,
  "metadata": {
    "colab": {
      "provenance": [],
      "authorship_tag": "ABX9TyNvz+BHus7bEk1XlRVJxaTf",
      "include_colab_link": true
    },
    "kernelspec": {
      "name": "python3",
      "display_name": "Python 3"
    },
    "language_info": {
      "name": "python"
    }
  },
  "cells": [
    {
      "cell_type": "markdown",
      "metadata": {
        "id": "view-in-github",
        "colab_type": "text"
      },
      "source": [
        "<a href=\"https://colab.research.google.com/github/ntuyen610/Practice_with_Python/blob/main/Day_9.ipynb\" target=\"_parent\"><img src=\"https://colab.research.google.com/assets/colab-badge.svg\" alt=\"Open In Colab\"/></a>"
      ]
    },
    {
      "cell_type": "code",
      "execution_count": 9,
      "metadata": {
        "colab": {
          "base_uri": "https://localhost:8080/"
        },
        "id": "ny2goOy9Lhv8",
        "outputId": "b2937cf4-517d-4c93-ea1e-dff8df76ec69"
      },
      "outputs": [
        {
          "output_type": "execute_result",
          "data": {
            "text/plain": [
              "[1, 2, 3, 4, 5, 6, 7, 8, 9, 10]"
            ]
          },
          "metadata": {},
          "execution_count": 9
        }
      ],
      "source": [
        "lst_data = list(range(1,11,1))\n",
        "lst_data"
      ]
    },
    {
      "cell_type": "code",
      "source": [
        "range(len(lst_data))\n"
      ],
      "metadata": {
        "colab": {
          "base_uri": "https://localhost:8080/"
        },
        "id": "kBmMybfvLu0P",
        "outputId": "dc90573e-0101-48a4-c0a7-e3e57062d832"
      },
      "execution_count": 10,
      "outputs": [
        {
          "output_type": "execute_result",
          "data": {
            "text/plain": [
              "range(0, 10)"
            ]
          },
          "metadata": {},
          "execution_count": 10
        }
      ]
    },
    {
      "cell_type": "code",
      "source": [
        "def calculate_median(lst_data):\n",
        "    lst_data.sort()\n",
        "    N = len(lst_data)\n",
        "\n",
        "    if N % 2 != 0:\n",
        "      Median = lst_data[int((N+1)/2)-1]\n",
        "    elif N % 2 == 0:\n",
        "      Median = (lst_data[int((N)/2)-1] + lst_data[int(N/2)]) / 2\n",
        "\n",
        "    print(f'Median = {Median}')"
      ],
      "metadata": {
        "id": "WTQ9irblLxY7"
      },
      "execution_count": 37,
      "outputs": []
    },
    {
      "cell_type": "code",
      "source": [
        "calculate_median(lst_data)"
      ],
      "metadata": {
        "colab": {
          "base_uri": "https://localhost:8080/"
        },
        "id": "J-fNHiUjNVup",
        "outputId": "23b4ed89-e4c0-4488-937b-973d1c7cf7fd"
      },
      "execution_count": 38,
      "outputs": [
        {
          "output_type": "stream",
          "name": "stdout",
          "text": [
            "Median = 5.5\n"
          ]
        }
      ]
    },
    {
      "cell_type": "code",
      "source": [
        "lst_odd_filter = []\n",
        "\n",
        "for i in lst_data:\n",
        "    if i % 2 == 1:\n",
        "      lst_odd_filter.append(i)\n",
        "      lst_odd_filter.sort(reverse = True)\n",
        "\n",
        "print(lst_odd_filter)"
      ],
      "metadata": {
        "colab": {
          "base_uri": "https://localhost:8080/"
        },
        "id": "Un4HU-1RNWO2",
        "outputId": "811792bf-4f85-4efc-9ea9-cd55a2d00eee"
      },
      "execution_count": 40,
      "outputs": [
        {
          "output_type": "stream",
          "name": "stdout",
          "text": [
            "[9, 7, 5, 3, 1]\n"
          ]
        }
      ]
    },
    {
      "cell_type": "code",
      "source": [],
      "metadata": {
        "id": "nbflxeDCRNGK"
      },
      "execution_count": null,
      "outputs": []
    }
  ]
}