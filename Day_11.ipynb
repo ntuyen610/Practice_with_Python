{
  "nbformat": 4,
  "nbformat_minor": 0,
  "metadata": {
    "colab": {
      "provenance": [],
      "authorship_tag": "ABX9TyNnyPMcuSHc0kZoVNch16m7",
      "include_colab_link": true
    },
    "kernelspec": {
      "name": "python3",
      "display_name": "Python 3"
    },
    "language_info": {
      "name": "python"
    }
  },
  "cells": [
    {
      "cell_type": "markdown",
      "metadata": {
        "id": "view-in-github",
        "colab_type": "text"
      },
      "source": [
        "<a href=\"https://colab.research.google.com/github/ntuyen610/Practice_with_Python/blob/main/Day_11.ipynb\" target=\"_parent\"><img src=\"https://colab.research.google.com/assets/colab-badge.svg\" alt=\"Open In Colab\"/></a>"
      ]
    },
    {
      "cell_type": "code",
      "execution_count": 13,
      "metadata": {
        "id": "KElzZCtcM1yi"
      },
      "outputs": [],
      "source": [
        "corpus = [\"Tôi thích môn Toán\", \"Tôi thích AI\", \"Tôi thích âm nhạc\"]\n",
        "bag_of_words = []\n",
        "\n",
        "def tokenize(corpus):\n",
        "  for sentence in corpus:\n",
        "    words = sentence.split()\n",
        "    for word in words:\n",
        "      if word not in bag_of_words:\n",
        "        bag_of_words.append(word)\n",
        "  print(bag_of_words)\n"
      ]
    },
    {
      "cell_type": "code",
      "source": [
        "tokenize(corpus)"
      ],
      "metadata": {
        "colab": {
          "base_uri": "https://localhost:8080/"
        },
        "id": "3JSMdahERi56",
        "outputId": "5b43e312-6e1e-4017-e1c1-0e5f8806c7be"
      },
      "execution_count": 14,
      "outputs": [
        {
          "output_type": "stream",
          "name": "stdout",
          "text": [
            "['Tôi', 'thích', 'môn', 'Toán', 'AI', 'âm', 'nhạc']\n"
          ]
        }
      ]
    },
    {
      "cell_type": "code",
      "source": [
        "def binary_BoW(new_sentence):\n",
        "  vector = [0]*len(bag_of_words)\n",
        "\n",
        "  new_sentence = new_sentence.split()\n",
        "  for word in new_sentence:\n",
        "    for index in range(len(bag_of_words)):\n",
        "      if word == bag_of_words[index]:\n",
        "        vector[index] += 1\n",
        "  return vector"
      ],
      "metadata": {
        "id": "xDf6BUPGQon9"
      },
      "execution_count": 17,
      "outputs": []
    },
    {
      "cell_type": "code",
      "source": [
        "new_sentence = \"Tôi thích AI thích Toán\"\n",
        "binary_BoW(new_sentence)"
      ],
      "metadata": {
        "colab": {
          "base_uri": "https://localhost:8080/"
        },
        "id": "0y94qrTzT1UP",
        "outputId": "4e8c3fd1-76cc-4d2f-aefa-ce1fc53a5adf"
      },
      "execution_count": 18,
      "outputs": [
        {
          "output_type": "execute_result",
          "data": {
            "text/plain": [
              "[1, 2, 0, 1, 1, 0, 0]"
            ]
          },
          "metadata": {},
          "execution_count": 18
        }
      ]
    }
  ]
}