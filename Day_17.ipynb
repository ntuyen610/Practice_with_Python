{
  "nbformat": 4,
  "nbformat_minor": 0,
  "metadata": {
    "colab": {
      "provenance": [],
      "authorship_tag": "ABX9TyN5sw8Z5goRZfZrJ0o1ORqJ",
      "include_colab_link": true
    },
    "kernelspec": {
      "name": "python3",
      "display_name": "Python 3"
    },
    "language_info": {
      "name": "python"
    }
  },
  "cells": [
    {
      "cell_type": "markdown",
      "metadata": {
        "id": "view-in-github",
        "colab_type": "text"
      },
      "source": [
        "<a href=\"https://colab.research.google.com/github/ntuyen610/Practice_with_Python/blob/main/Day_17.ipynb\" target=\"_parent\"><img src=\"https://colab.research.google.com/assets/colab-badge.svg\" alt=\"Open In Colab\"/></a>"
      ]
    },
    {
      "cell_type": "code",
      "execution_count": 1,
      "metadata": {
        "colab": {
          "base_uri": "https://localhost:8080/"
        },
        "id": "vTSay3IaH-yD",
        "outputId": "1ff796e9-948b-4e87-e23c-1190887cb04f"
      },
      "outputs": [
        {
          "output_type": "stream",
          "name": "stdout",
          "text": [
            "[[1, 2, 3], [4, 5, 6], [7, 8, 9]]\n"
          ]
        }
      ],
      "source": [
        "lst_data = [\n",
        "    [1,2,3],\n",
        "    [4,5,6],\n",
        "    [7,8,9]\n",
        "]\n",
        "print(lst_data)"
      ]
    },
    {
      "cell_type": "code",
      "source": [
        "lst_2D =[]\n",
        "\n",
        "for index in range(len(lst_data)):\n",
        "  sub_lst = []\n",
        "  sub_lst.append(lst_data[index][0])\n",
        "  sub_lst.append(lst_data[index][2])\n",
        "  lst_2D.append(sub_lst)\n",
        "\n",
        "print(lst_2D)"
      ],
      "metadata": {
        "colab": {
          "base_uri": "https://localhost:8080/"
        },
        "id": "mbxmgJUFIO7F",
        "outputId": "2b3f54aa-bb16-442d-ac3b-52760ed35009"
      },
      "execution_count": 2,
      "outputs": [
        {
          "output_type": "stream",
          "name": "stdout",
          "text": [
            "[[1, 3], [4, 6], [7, 9]]\n"
          ]
        }
      ]
    },
    {
      "cell_type": "code",
      "source": [
        "mat_a = [\n",
        "    [1,2,3],\n",
        "    [4,5,6],\n",
        "    [7,8,9]\n",
        "]\n",
        "\n",
        "mat_b = [\n",
        "    [2,4,6],\n",
        "    [1,3,5],\n",
        "    [1,0,1]\n",
        "]"
      ],
      "metadata": {
        "id": "ZDcyg4pbJiHD"
      },
      "execution_count": 3,
      "outputs": []
    },
    {
      "cell_type": "code",
      "source": [
        "sum_2_mat = []\n",
        "sub_2_mat = []\n",
        "dot_2_mat = []\n",
        "\n",
        "for i in range(len(mat_a)):\n",
        "  cal_sum = []\n",
        "  cal_sub = []\n",
        "  for j in range(len(mat_a)):\n",
        "\n",
        "    cal_sum.append(mat_a[i][j] + mat_b[i][j])\n",
        "    cal_sub.append(mat_a[i][j] - mat_b[i][j])\n",
        "\n",
        "  sum_2_mat.append(cal_sum)\n",
        "  sub_2_mat.append(cal_sub)\n"
      ],
      "metadata": {
        "id": "ng4rhg6dNarG"
      },
      "execution_count": 4,
      "outputs": []
    },
    {
      "cell_type": "code",
      "source": [
        "print(sum_2_mat)\n",
        "print(sub_2_mat)"
      ],
      "metadata": {
        "colab": {
          "base_uri": "https://localhost:8080/"
        },
        "id": "s2bF6UdlPALN",
        "outputId": "dd9b291c-f33e-427f-9c1e-8ef59aab09c6"
      },
      "execution_count": 5,
      "outputs": [
        {
          "output_type": "stream",
          "name": "stdout",
          "text": [
            "[[3, 6, 9], [5, 8, 11], [8, 8, 10]]\n",
            "[[-1, -2, -3], [3, 2, 1], [6, 8, 8]]\n"
          ]
        }
      ]
    },
    {
      "cell_type": "code",
      "source": [
        "mul_2_mat = []\n",
        "\n",
        "for i in range(len(mat_a)):\n",
        "  add_multi = []\n",
        "  for j in range(len(mat_b)):\n",
        "    sum = 0\n",
        "    for k in range(len(mat_b)):\n",
        "      sum += mat_a[i][k] * mat_b[k][j]\n",
        "    add_multi.append(sum)\n",
        "  mul_2_mat.append(add_multi)\n",
        "\n"
      ],
      "metadata": {
        "id": "PUVPcu9DPEEG"
      },
      "execution_count": 6,
      "outputs": []
    },
    {
      "cell_type": "code",
      "source": [
        "print(mul_2_mat)"
      ],
      "metadata": {
        "colab": {
          "base_uri": "https://localhost:8080/"
        },
        "id": "DxuPLgfy4TCK",
        "outputId": "5bfe3b35-5e07-43f5-98f5-4fbcda8a9745"
      },
      "execution_count": 7,
      "outputs": [
        {
          "output_type": "stream",
          "name": "stdout",
          "text": [
            "[[7, 10, 19], [19, 31, 55], [31, 52, 91]]\n"
          ]
        }
      ]
    },
    {
      "cell_type": "code",
      "source": [],
      "metadata": {
        "id": "EtRYPUb047HM"
      },
      "execution_count": 7,
      "outputs": []
    }
  ]
}