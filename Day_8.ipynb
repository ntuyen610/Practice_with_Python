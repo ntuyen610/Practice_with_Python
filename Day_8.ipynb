{
  "nbformat": 4,
  "nbformat_minor": 0,
  "metadata": {
    "colab": {
      "provenance": [],
      "authorship_tag": "ABX9TyO0tP+VkNqLtykCDV9GmUq6",
      "include_colab_link": true
    },
    "kernelspec": {
      "name": "python3",
      "display_name": "Python 3"
    },
    "language_info": {
      "name": "python"
    }
  },
  "cells": [
    {
      "cell_type": "markdown",
      "metadata": {
        "id": "view-in-github",
        "colab_type": "text"
      },
      "source": [
        "<a href=\"https://colab.research.google.com/github/ntuyen610/Practice_with_Python/blob/main/Day_8.ipynb\" target=\"_parent\"><img src=\"https://colab.research.google.com/assets/colab-badge.svg\" alt=\"Open In Colab\"/></a>"
      ]
    },
    {
      "cell_type": "code",
      "execution_count": null,
      "metadata": {
        "id": "xY9VmIvXkU2p",
        "colab": {
          "base_uri": "https://localhost:8080/"
        },
        "outputId": "47eefa3a-c365-455d-dafd-a872b8b31f40"
      },
      "outputs": [
        {
          "output_type": "stream",
          "name": "stdout",
          "text": [
            "Danh sach mua sam\n",
            "1. Ca rot\n",
            "2. Tao\n",
            "3. Sua\n"
          ]
        }
      ],
      "source": [
        "#Method 1: use enumerate\n",
        "shopping_list = [\"Ca rot\", \"Tao\", \"Sua\"]\n",
        "\n",
        "print(\"Danh sach mua sam\")\n",
        "for index, item in enumerate(shopping_list, start = 1):\n",
        "  print(f'{index}. {item}')"
      ]
    },
    {
      "cell_type": "markdown",
      "source": [],
      "metadata": {
        "id": "pCfyWwy3059d"
      }
    },
    {
      "cell_type": "code",
      "source": [
        "food_list = [\n",
        "  [\"Bo\", \"Pizza\", \"Sua\"],\n",
        "  [\"Xuc xich\", \"Tao\", \"Kem\"],\n",
        "  [\"Ca rot\", \"Banh dau\", \"Cupcake\"]\n",
        "]\n",
        "\n",
        "search_items = [\"Ca rot\", \"Tao\", \"Sua\"]\n",
        "for i in range(len(food_list)):\n",
        "  for j in range(len(food_list[i])):\n",
        "    if food_list[i][j] in search_items:\n",
        "      print(f'{food_list[i][j]} duoc tim '\n",
        "             f'thay o hang {i+1} va cot {j+1}')\n",
        "\n"
      ],
      "metadata": {
        "colab": {
          "base_uri": "https://localhost:8080/"
        },
        "id": "cSW0osZxzI2O",
        "outputId": "81393e8f-50a6-479c-b16e-1b7d0881657c"
      },
      "execution_count": 13,
      "outputs": [
        {
          "output_type": "stream",
          "name": "stdout",
          "text": [
            "Sua duoc tim thay o hang 1 va cot 3\n",
            "Tao duoc tim thay o hang 2 va cot 2\n",
            "Ca rot duoc tim thay o hang 3 va cot 1\n"
          ]
        }
      ]
    },
    {
      "cell_type": "code",
      "source": [
        "for i, row in enumerate(food_list, start = 1):\n",
        "  for j, item in enumerate(row, start = 1):\n",
        "    if item in search_items:\n",
        "      print(f'{item} duoc tim thay '\n",
        "            f'o hang {i} cot {j}')"
      ],
      "metadata": {
        "id": "JwJ6Mn7h0Mic",
        "colab": {
          "base_uri": "https://localhost:8080/"
        },
        "outputId": "6d9893b6-5245-4f18-9991-21f6ff6556bc"
      },
      "execution_count": 15,
      "outputs": [
        {
          "output_type": "stream",
          "name": "stdout",
          "text": [
            "Sua duoc tim thay o hang 1 cot 3\n",
            "Tao duoc tim thay o hang 2 cot 2\n",
            "Ca rot duoc tim thay o hang 3 cot 1\n"
          ]
        }
      ]
    },
    {
      "cell_type": "code",
      "source": [],
      "metadata": {
        "id": "IwmpSVqmKvDI"
      },
      "execution_count": null,
      "outputs": []
    }
  ]
}