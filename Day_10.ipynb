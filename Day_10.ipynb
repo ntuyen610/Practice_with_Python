{
  "nbformat": 4,
  "nbformat_minor": 0,
  "metadata": {
    "colab": {
      "provenance": [],
      "authorship_tag": "ABX9TyNMb4g2qinWQS+ruIglUoL2",
      "include_colab_link": true
    },
    "kernelspec": {
      "name": "python3",
      "display_name": "Python 3"
    },
    "language_info": {
      "name": "python"
    }
  },
  "cells": [
    {
      "cell_type": "markdown",
      "metadata": {
        "id": "view-in-github",
        "colab_type": "text"
      },
      "source": [
        "<a href=\"https://colab.research.google.com/github/ntuyen610/Practice_with_Python/blob/main/Day_10.ipynb\" target=\"_parent\"><img src=\"https://colab.research.google.com/assets/colab-badge.svg\" alt=\"Open In Colab\"/></a>"
      ]
    },
    {
      "cell_type": "markdown",
      "source": [
        "**Array (Numpy):**\n",
        "- là cấu trúc dữ liệu đa chiều\n",
        "- giúp lưu trữ + thực hiện các phép toán trên dữ liệu số\n",
        "- Có thể là mảng 0/1/2/ nhiều chiều\n",
        "\n",
        "**Tensor (Pytorch/Tensorflow)**\n",
        "- cấu trúc dữ liệu nhiều chiều\n",
        "- được thiết kế tương thích với học sâu\n",
        "- trên các thiết bị GPU/ TPU\n",
        "- tensors là đơn cị cơ bản để lưu trữ và xử lí dữ liệu\n"
      ],
      "metadata": {
        "id": "Z5OdfO_7IOpH"
      }
    },
    {
      "cell_type": "code",
      "source": [
        "import numpy as np\n",
        "import torch\n",
        "import tensorflow as tf"
      ],
      "metadata": {
        "id": "01WjueDAJHCh"
      },
      "execution_count": 1,
      "outputs": []
    },
    {
      "cell_type": "code",
      "source": [
        "#Create 1 list 1D\n",
        "lst_1D = list(range(1,10))\n",
        "lst_1D"
      ],
      "metadata": {
        "colab": {
          "base_uri": "https://localhost:8080/"
        },
        "id": "yKCQvzULJRIX",
        "outputId": "8cefab18-01da-41a3-a44e-ae92fdc0ef6c"
      },
      "execution_count": 3,
      "outputs": [
        {
          "output_type": "execute_result",
          "data": {
            "text/plain": [
              "[1, 2, 3, 4, 5, 6, 7, 8, 9]"
            ]
          },
          "metadata": {},
          "execution_count": 3
        }
      ]
    },
    {
      "cell_type": "code",
      "source": [
        "#Create 1 array 1D from list\n",
        "arr_1D = np.array(lst_1D)\n",
        "arr_1D"
      ],
      "metadata": {
        "colab": {
          "base_uri": "https://localhost:8080/"
        },
        "id": "r7GjKUpUJZXm",
        "outputId": "9da41fbe-6628-4249-f5f3-4685facff790"
      },
      "execution_count": 4,
      "outputs": [
        {
          "output_type": "execute_result",
          "data": {
            "text/plain": [
              "array([1, 2, 3, 4, 5, 6, 7, 8, 9])"
            ]
          },
          "metadata": {},
          "execution_count": 4
        }
      ]
    },
    {
      "cell_type": "code",
      "source": [
        "# Create 1 tensor PyTorch 1D from list\n",
        "tensor_1D_pt = torch.tensor(lst_1D)\n",
        "tensor_1D_pt"
      ],
      "metadata": {
        "colab": {
          "base_uri": "https://localhost:8080/"
        },
        "id": "gdLhfopOJj8X",
        "outputId": "ec455bbf-df26-4fdf-bda9-3115e6493299"
      },
      "execution_count": 5,
      "outputs": [
        {
          "output_type": "execute_result",
          "data": {
            "text/plain": [
              "tensor([1, 2, 3, 4, 5, 6, 7, 8, 9])"
            ]
          },
          "metadata": {},
          "execution_count": 5
        }
      ]
    },
    {
      "cell_type": "code",
      "source": [
        "# Create 1 tensor TensorFlow from list\n",
        "tensor_1D_tf = tf.convert_to_tensor(lst_1D)\n",
        "tensor_1D_tf"
      ],
      "metadata": {
        "colab": {
          "base_uri": "https://localhost:8080/"
        },
        "id": "1UxIhCGJJ2At",
        "outputId": "6a52d1d9-19e9-48f7-f135-01d785a321cf"
      },
      "execution_count": 7,
      "outputs": [
        {
          "output_type": "execute_result",
          "data": {
            "text/plain": [
              "<tf.Tensor: shape=(9,), dtype=int32, numpy=array([1, 2, 3, 4, 5, 6, 7, 8, 9], dtype=int32)>"
            ]
          },
          "metadata": {},
          "execution_count": 7
        }
      ]
    },
    {
      "cell_type": "code",
      "source": [
        "#Create list 2D\n",
        "list_2D = [\n",
        "    [1,2,3],\n",
        "    [2,4,6],\n",
        "    [8,9,10]\n",
        "]\n",
        "#Create array 2D\n",
        "arr_2D = np.array(list_2D)\n",
        "\n",
        "print(arr_2D.shape)\n",
        "print(arr_2D.dtype)\n",
        "print(type(arr_2D))"
      ],
      "metadata": {
        "colab": {
          "base_uri": "https://localhost:8080/"
        },
        "id": "9XWjb2qvKGdr",
        "outputId": "3f5f6dc1-42ee-4318-f0a4-c6646df26b84"
      },
      "execution_count": 10,
      "outputs": [
        {
          "output_type": "stream",
          "name": "stdout",
          "text": [
            "(3, 3)\n",
            "int64\n",
            "<class 'numpy.ndarray'>\n"
          ]
        }
      ]
    },
    {
      "cell_type": "code",
      "source": [
        "#create Pytorch 2D\n",
        "tensor_2D_pt = torch.tensor(list_2D)\n",
        "\n",
        "print(tensor_2D_pt.shape)\n",
        "print(tensor_2D_pt.dtype)\n",
        "print(type(tensor_2D_pt))\n",
        "#Thiet bi luu tru cuar tensor\n",
        "print(tensor_2D_pt.device)"
      ],
      "metadata": {
        "colab": {
          "base_uri": "https://localhost:8080/"
        },
        "id": "-2AzkArMKlaX",
        "outputId": "6f677cb3-9988-4a80-b9e1-a5633fd114ad"
      },
      "execution_count": 13,
      "outputs": [
        {
          "output_type": "stream",
          "name": "stdout",
          "text": [
            "torch.Size([3, 3])\n",
            "torch.int64\n",
            "<class 'torch.Tensor'>\n",
            "cpu\n"
          ]
        }
      ]
    },
    {
      "cell_type": "code",
      "source": [
        "#create tensor TensorFlow 2D\n",
        "tensor_2D_tf = tf.convert_to_tensor(list_2D)\n",
        "\n",
        "print(tensor_2D_tf.shape)\n",
        "print(tensor_2D_tf.dtype)\n",
        "print(type(tensor_2D_tf))\n",
        "print(tensor_2D_tf.device)"
      ],
      "metadata": {
        "colab": {
          "base_uri": "https://localhost:8080/"
        },
        "id": "Ao1lOigBLCZd",
        "outputId": "2bcce361-f424-465a-fe42-07b567073575"
      },
      "execution_count": 14,
      "outputs": [
        {
          "output_type": "stream",
          "name": "stdout",
          "text": [
            "(3, 3)\n",
            "<dtype: 'int32'>\n",
            "<class 'tensorflow.python.framework.ops.EagerTensor'>\n",
            "/job:localhost/replica:0/task:0/device:CPU:0\n"
          ]
        }
      ]
    },
    {
      "cell_type": "code",
      "source": [],
      "metadata": {
        "id": "BlbYYNrKLhIt"
      },
      "execution_count": null,
      "outputs": []
    }
  ]
}