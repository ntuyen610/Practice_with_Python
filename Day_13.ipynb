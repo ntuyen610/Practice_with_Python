{
  "nbformat": 4,
  "nbformat_minor": 0,
  "metadata": {
    "colab": {
      "provenance": [],
      "authorship_tag": "ABX9TyMEQV+xQBL1QmX01eGylDxI",
      "include_colab_link": true
    },
    "kernelspec": {
      "name": "python3",
      "display_name": "Python 3"
    },
    "language_info": {
      "name": "python"
    }
  },
  "cells": [
    {
      "cell_type": "markdown",
      "metadata": {
        "id": "view-in-github",
        "colab_type": "text"
      },
      "source": [
        "<a href=\"https://colab.research.google.com/github/ntuyen610/Practice_with_Python/blob/main/Day_13.ipynb\" target=\"_parent\"><img src=\"https://colab.research.google.com/assets/colab-badge.svg\" alt=\"Open In Colab\"/></a>"
      ]
    },
    {
      "cell_type": "code",
      "execution_count": 1,
      "metadata": {
        "id": "7gXlIahg_kdt"
      },
      "outputs": [],
      "source": [
        "lst_data = [1, 1.1, None, 1.4, None, 1.5, None, 2.0]"
      ]
    },
    {
      "cell_type": "code",
      "source": [
        "for index in range(len(lst_data)):\n",
        "  i = lst_data[index]\n",
        "  if i == None:\n",
        "    print(f'Vi tri None dau tien: {index}')\n",
        "    break\n"
      ],
      "metadata": {
        "colab": {
          "base_uri": "https://localhost:8080/"
        },
        "id": "VtdbgXfjAsfL",
        "outputId": "48026532-bcf4-4d3d-d224-accf20f4e06e"
      },
      "execution_count": 5,
      "outputs": [
        {
          "output_type": "stream",
          "name": "stdout",
          "text": [
            "Vi tri None dau tien: 2\n"
          ]
        }
      ]
    },
    {
      "cell_type": "code",
      "source": [
        "lst_none = []\n",
        "for index in range(len(lst_data)):\n",
        "  i = lst_data[index]\n",
        "  if i == None:\n",
        "    lst_none.append(index)\n",
        "print(f'Danh sach vi tri None: {lst_none}')"
      ],
      "metadata": {
        "colab": {
          "base_uri": "https://localhost:8080/"
        },
        "id": "KoTZnXvr_4V9",
        "outputId": "6056cbc8-79f5-497f-8547-4e5e03a92869"
      },
      "execution_count": 6,
      "outputs": [
        {
          "output_type": "stream",
          "name": "stdout",
          "text": [
            "Danh sach vi tri None: [2, 4, 6]\n"
          ]
        }
      ]
    },
    {
      "cell_type": "code",
      "source": [],
      "metadata": {
        "id": "tKwwq4FiAej2"
      },
      "execution_count": null,
      "outputs": []
    }
  ]
}