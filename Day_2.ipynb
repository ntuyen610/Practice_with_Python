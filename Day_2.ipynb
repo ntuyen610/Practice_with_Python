{
  "nbformat": 4,
  "nbformat_minor": 0,
  "metadata": {
    "colab": {
      "provenance": [],
      "authorship_tag": "ABX9TyNjwagXWlpQX4dzOhD8Hpzt",
      "include_colab_link": true
    },
    "kernelspec": {
      "name": "python3",
      "display_name": "Python 3"
    },
    "language_info": {
      "name": "python"
    }
  },
  "cells": [
    {
      "cell_type": "markdown",
      "metadata": {
        "id": "view-in-github",
        "colab_type": "text"
      },
      "source": [
        "<a href=\"https://colab.research.google.com/github/ntuyen610/Practice_with_Python/blob/main/Day_2.ipynb\" target=\"_parent\"><img src=\"https://colab.research.google.com/assets/colab-badge.svg\" alt=\"Open In Colab\"/></a>"
      ]
    },
    {
      "cell_type": "code",
      "execution_count": 25,
      "metadata": {
        "id": "CXA5DnepLVzi"
      },
      "outputs": [],
      "source": [
        "import numpy as np"
      ]
    },
    {
      "cell_type": "code",
      "source": [
        "\n",
        "def quadratic_equation(a,b,c):\n",
        "  x1 = 0\n",
        "  x2 = 0\n",
        "\n",
        "  delta = b**2 - 4*a*c\n",
        "\n",
        "  if a == 0:\n",
        "\n",
        "    if b == 0:\n",
        "      print('Phuong trinh co vo so nghiem')\n",
        "    else:\n",
        "      print(f'Phuong trinh co 1 nghiem x = {-c/b}')\n",
        "\n",
        "  else:\n",
        "\n",
        "    if delta > 0:\n",
        "      x1 = (-b - np.sqrt(delta))/(2*a)\n",
        "      x2 = (-b + np.sqrt(delta))/(2*a)\n",
        "      print(f'x1 = {x1} and x2 = {x2}' )\n",
        "\n",
        "    elif delta == 0:\n",
        "      print(f'x1 = x2 = {-b/2*a}')\n",
        "\n",
        "    else:\n",
        "      print('Phuong trinh vo nghiem')\n",
        "\n"
      ],
      "metadata": {
        "id": "3RgaTmAdLxsm"
      },
      "execution_count": 36,
      "outputs": []
    },
    {
      "cell_type": "code",
      "source": [
        "print(quadratic_equation(a=2,b=6,c=4))\n"
      ],
      "metadata": {
        "colab": {
          "base_uri": "https://localhost:8080/"
        },
        "id": "pTEDi_UzNDrW",
        "outputId": "49365fa5-cb4c-47c4-cf26-0f7fc184d65b"
      },
      "execution_count": 38,
      "outputs": [
        {
          "output_type": "stream",
          "name": "stdout",
          "text": [
            "x1 = -2.0 and x2 = -1.0\n",
            "None\n"
          ]
        }
      ]
    },
    {
      "cell_type": "code",
      "source": [
        "print(quadratic_equation(a=1,b=2,c=1))"
      ],
      "metadata": {
        "colab": {
          "base_uri": "https://localhost:8080/"
        },
        "id": "Sm-GOD4JNPaq",
        "outputId": "34b7f975-9f83-49b4-b6aa-da363bba9332"
      },
      "execution_count": 32,
      "outputs": [
        {
          "output_type": "stream",
          "name": "stdout",
          "text": [
            "x1 = x2 = -1.0\n",
            "None\n"
          ]
        }
      ]
    },
    {
      "cell_type": "code",
      "source": [
        "print(quadratic_equation(a=4,b=6,c=3))"
      ],
      "metadata": {
        "colab": {
          "base_uri": "https://localhost:8080/"
        },
        "id": "84sccldGN7ay",
        "outputId": "185edb4a-6ab1-4b2a-d9f5-933b5bb05483"
      },
      "execution_count": 35,
      "outputs": [
        {
          "output_type": "stream",
          "name": "stdout",
          "text": [
            "Phuong trinh vo nghiem\n",
            "None\n"
          ]
        }
      ]
    },
    {
      "cell_type": "code",
      "source": [],
      "metadata": {
        "id": "tpqFELxwOLJs"
      },
      "execution_count": null,
      "outputs": []
    }
  ]
}