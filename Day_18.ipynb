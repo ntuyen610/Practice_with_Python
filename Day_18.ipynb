{
  "nbformat": 4,
  "nbformat_minor": 0,
  "metadata": {
    "colab": {
      "provenance": [],
      "authorship_tag": "ABX9TyOPy54gVtHQOoF7nOYMTCzz",
      "include_colab_link": true
    },
    "kernelspec": {
      "name": "python3",
      "display_name": "Python 3"
    },
    "language_info": {
      "name": "python"
    }
  },
  "cells": [
    {
      "cell_type": "markdown",
      "metadata": {
        "id": "view-in-github",
        "colab_type": "text"
      },
      "source": [
        "<a href=\"https://colab.research.google.com/github/ntuyen610/Practice_with_Python/blob/main/Day_18.ipynb\" target=\"_parent\"><img src=\"https://colab.research.google.com/assets/colab-badge.svg\" alt=\"Open In Colab\"/></a>"
      ]
    },
    {
      "cell_type": "markdown",
      "source": [
        "# List comprehensive\n",
        "- [**Expression** for **Item** in **Iterate** if **Condition**]\n",
        "+ expression: bieu thuc duowc tinh toan trong moi vong lap\n",
        "+ Item: phan tu trong danh sach\n",
        "+ Iterate: danh sach du lieu can duoc lap qua\n",
        "+ condition: dieu kien"
      ],
      "metadata": {
        "id": "9BDfMglC8rvl"
      }
    },
    {
      "cell_type": "code",
      "source": [
        "stop_word = ['I', 'love', 'and', 'to']\n",
        "input = \"I love AI and listen to music\"\n"
      ],
      "metadata": {
        "id": "ofkG9l2N9RAJ"
      },
      "execution_count": 1,
      "outputs": []
    },
    {
      "cell_type": "code",
      "source": [
        "output = [item for item in input.split() if item not in stop_word]"
      ],
      "metadata": {
        "id": "DIzKUC189i_A"
      },
      "execution_count": 2,
      "outputs": []
    },
    {
      "cell_type": "code",
      "source": [
        "print(output)"
      ],
      "metadata": {
        "colab": {
          "base_uri": "https://localhost:8080/"
        },
        "id": "sE7KjfTy99gI",
        "outputId": "c6ba94d5-c20e-46d6-a669-1683a5aee1fb"
      },
      "execution_count": 3,
      "outputs": [
        {
          "output_type": "stream",
          "name": "stdout",
          "text": [
            "['AI', 'listen', 'music']\n"
          ]
        }
      ]
    },
    {
      "cell_type": "markdown",
      "source": [
        "# List - Tuple"
      ],
      "metadata": {
        "id": "q9wb_YN8BpQZ"
      }
    },
    {
      "cell_type": "code",
      "source": [
        "my_tuple1 = (2,3)\n",
        "my_tuple2 = (3,6)"
      ],
      "metadata": {
        "id": "7laidgzk-W3M"
      },
      "execution_count": 4,
      "outputs": []
    },
    {
      "cell_type": "code",
      "source": [
        "result_tuple1 = (my_tuple1[0]+my_tuple1[1], my_tuple1[0]*my_tuple1[1])\n",
        "print(result_tuple1)"
      ],
      "metadata": {
        "colab": {
          "base_uri": "https://localhost:8080/"
        },
        "id": "0hg612a8-lw0",
        "outputId": "4edb1ad5-87d8-4b8d-9264-64e2d51b5e3f"
      },
      "execution_count": 7,
      "outputs": [
        {
          "output_type": "stream",
          "name": "stdout",
          "text": [
            "(5, 6)\n"
          ]
        }
      ]
    },
    {
      "cell_type": "code",
      "source": [
        "result_tuple2 = (my_tuple2[0]+my_tuple2[1], my_tuple2[0]*my_tuple2[1])\n",
        "print(result_tuple2)"
      ],
      "metadata": {
        "colab": {
          "base_uri": "https://localhost:8080/"
        },
        "id": "ttGPL-Cj-8Pr",
        "outputId": "509559b2-a7a2-483e-afce-bce67e873a13"
      },
      "execution_count": 8,
      "outputs": [
        {
          "output_type": "stream",
          "name": "stdout",
          "text": [
            "(9, 18)\n"
          ]
        }
      ]
    },
    {
      "cell_type": "code",
      "source": [
        "import math\n",
        "distance_tuple = (math.sqrt(((my_tuple2[0]-my_tuple1[0])**2) + (my_tuple2[1] - my_tuple1[1])**2))\n",
        "print(distance_tuple)"
      ],
      "metadata": {
        "colab": {
          "base_uri": "https://localhost:8080/"
        },
        "id": "4fkyvS2KAQ7N",
        "outputId": "a368ed1e-9501-402a-b310-6b7362ebe0bf"
      },
      "execution_count": 10,
      "outputs": [
        {
          "output_type": "stream",
          "name": "stdout",
          "text": [
            "3.1622776601683795\n"
          ]
        }
      ]
    },
    {
      "cell_type": "code",
      "source": [
        "print(f'Vi tri cua value 3 trong my_tuple1 la: {my_tuple1.index(3)}')\n",
        "print(f'Vi tri cua value 3 trong my_tuple2 la: {my_tuple2.index(3)}')"
      ],
      "metadata": {
        "colab": {
          "base_uri": "https://localhost:8080/"
        },
        "id": "4QRX3xxmBNfU",
        "outputId": "566c2cf7-a72c-437a-9604-e6708c027404"
      },
      "execution_count": 15,
      "outputs": [
        {
          "output_type": "stream",
          "name": "stdout",
          "text": [
            "Vi tri cua value 3 trong my_tuple1 la: 1\n",
            "Vi tri cua value 3 trong my_tuple2 la: 0\n"
          ]
        }
      ]
    }
  ]
}