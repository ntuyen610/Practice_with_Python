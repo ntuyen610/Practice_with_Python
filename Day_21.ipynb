{
  "nbformat": 4,
  "nbformat_minor": 0,
  "metadata": {
    "colab": {
      "provenance": [],
      "authorship_tag": "ABX9TyO/tTrMeVLpU4+rQpqyNpVN",
      "include_colab_link": true
    },
    "kernelspec": {
      "name": "python3",
      "display_name": "Python 3"
    },
    "language_info": {
      "name": "python"
    }
  },
  "cells": [
    {
      "cell_type": "markdown",
      "metadata": {
        "id": "view-in-github",
        "colab_type": "text"
      },
      "source": [
        "<a href=\"https://colab.research.google.com/github/ntuyen610/Practice_with_Python/blob/main/Day_21.ipynb\" target=\"_parent\"><img src=\"https://colab.research.google.com/assets/colab-badge.svg\" alt=\"Open In Colab\"/></a>"
      ]
    },
    {
      "cell_type": "code",
      "execution_count": 5,
      "metadata": {
        "colab": {
          "base_uri": "https://localhost:8080/"
        },
        "id": "qTQ5Kfucdn2o",
        "outputId": "bb3102cf-520b-4de2-c10b-56ee695a1482"
      },
      "outputs": [
        {
          "output_type": "stream",
          "name": "stdout",
          "text": [
            "he who conquers himself is the mightiest warrior try not to become a man of success but rather become a man of value one man with courage makes a majority one secret of success in life is for a man to be ready for his opportunity when it comes the successful man will profit from his mistakes and try again in a different way a successful man is one who can lay a firm foundation with the bricks others have thrown at him success usually comes to those who are too busy looking for it we cannot solve problems with the kind of thinking we employed when we came up with them just one small positive thought in the morning can change your whole day you can get everything in life you want if you will just help enough other people get what they want\n"
          ]
        }
      ],
      "source": [
        "with open('/content/data (1).txt', 'r') as f:\n",
        "  data = f.read().replace(\"\\n\", \" \").lower()\n",
        "\n",
        "print(data)"
      ]
    },
    {
      "cell_type": "code",
      "source": [
        "distinct_words = []\n",
        "for item in data.split():\n",
        "  if item not in distinct_words:\n",
        "    distinct_words.append(item)\n",
        "\n",
        "distinct_words.sort()\n",
        "print(distinct_words)"
      ],
      "metadata": {
        "colab": {
          "base_uri": "https://localhost:8080/"
        },
        "id": "hC0a7dQvfUGD",
        "outputId": "dd6a1a87-058d-4dd0-f4a7-02018f91e1a4"
      },
      "execution_count": 11,
      "outputs": [
        {
          "output_type": "stream",
          "name": "stdout",
          "text": [
            "['a', 'again', 'and', 'are', 'at', 'be', 'become', 'bricks', 'busy', 'but', 'came', 'can', 'cannot', 'change', 'comes', 'conquers', 'courage', 'day', 'different', 'employed', 'enough', 'everything', 'firm', 'for', 'foundation', 'from', 'get', 'have', 'he', 'help', 'him', 'himself', 'his', 'if', 'in', 'is', 'it', 'just', 'kind', 'lay', 'life', 'looking', 'majority', 'makes', 'man', 'mightiest', 'mistakes', 'morning', 'not', 'of', 'one', 'opportunity', 'other', 'others', 'people', 'positive', 'problems', 'profit', 'rather', 'ready', 'secret', 'small', 'solve', 'success', 'successful', 'the', 'them', 'they', 'thinking', 'those', 'thought', 'thrown', 'to', 'too', 'try', 'up', 'usually', 'value', 'want', 'warrior', 'way', 'we', 'what', 'when', 'who', 'whole', 'will', 'with', 'you', 'your']\n"
          ]
        }
      ]
    },
    {
      "cell_type": "code",
      "source": [
        "data.count('he')"
      ],
      "metadata": {
        "colab": {
          "base_uri": "https://localhost:8080/"
        },
        "id": "Ck5KAoGilQTB",
        "outputId": "b9241924-773d-4167-ed4d-d55e65355a5b"
      },
      "execution_count": 13,
      "outputs": [
        {
          "output_type": "execute_result",
          "data": {
            "text/plain": [
              "14"
            ]
          },
          "metadata": {},
          "execution_count": 13
        }
      ]
    },
    {
      "cell_type": "code",
      "source": [
        "count_word = {}\n",
        "for word in distinct_words:\n",
        "  count_word[word] = data.count(word)\n",
        "\n",
        "\n",
        "key_word_max = max(count_word, key=count_word.get)\n",
        "key_word_min = min(count_word, key=count_word.get)\n",
        "\n",
        "print(f'{key_word_max} is the most frequent word')\n",
        "print(f'{key_word_min} is the least common word')\n",
        "\n",
        "for key, value in count_word.items():\n",
        "  if value != count_word[key_word_max]:\n",
        "    print(f'{key} in data is {value}')\n",
        "\n",
        "\n",
        "\n"
      ],
      "metadata": {
        "colab": {
          "base_uri": "https://localhost:8080/"
        },
        "id": "x3DF7e_TgWJU",
        "outputId": "798a43e8-4c8f-453a-d26c-269c6f2eae84"
      },
      "execution_count": 41,
      "outputs": [
        {
          "output_type": "stream",
          "name": "stdout",
          "text": [
            "a is the most frequent word\n",
            "again is the least common word\n",
            "again in data is 1\n",
            "and in data is 1\n",
            "are in data is 1\n",
            "at in data is 4\n",
            "be in data is 3\n",
            "become in data is 2\n",
            "bricks in data is 1\n",
            "busy in data is 1\n",
            "but in data is 1\n",
            "came in data is 1\n",
            "can in data is 4\n",
            "cannot in data is 1\n",
            "change in data is 1\n",
            "comes in data is 2\n",
            "conquers in data is 1\n",
            "courage in data is 1\n",
            "day in data is 1\n",
            "different in data is 1\n",
            "employed in data is 1\n",
            "enough in data is 1\n",
            "everything in data is 1\n",
            "firm in data is 1\n",
            "for in data is 3\n",
            "foundation in data is 1\n",
            "from in data is 1\n",
            "get in data is 2\n",
            "have in data is 1\n",
            "he in data is 14\n",
            "help in data is 1\n",
            "him in data is 2\n",
            "himself in data is 1\n",
            "his in data is 2\n",
            "if in data is 4\n",
            "in in data is 11\n",
            "is in data is 6\n",
            "it in data is 10\n",
            "just in data is 2\n",
            "kind in data is 1\n",
            "lay in data is 1\n",
            "life in data is 2\n",
            "looking in data is 1\n",
            "majority in data is 1\n",
            "makes in data is 1\n",
            "man in data is 6\n",
            "mightiest in data is 1\n",
            "mistakes in data is 1\n",
            "morning in data is 1\n",
            "not in data is 2\n",
            "of in data is 5\n",
            "one in data is 4\n",
            "opportunity in data is 1\n",
            "other in data is 2\n",
            "others in data is 1\n",
            "people in data is 1\n",
            "positive in data is 1\n",
            "problems in data is 1\n",
            "profit in data is 1\n",
            "rather in data is 1\n",
            "ready in data is 1\n",
            "secret in data is 1\n",
            "small in data is 1\n",
            "solve in data is 1\n",
            "success in data is 5\n",
            "successful in data is 2\n",
            "the in data is 10\n",
            "them in data is 1\n",
            "they in data is 1\n",
            "thinking in data is 1\n",
            "those in data is 1\n",
            "thought in data is 1\n",
            "thrown in data is 1\n",
            "to in data is 4\n",
            "too in data is 1\n",
            "try in data is 2\n",
            "up in data is 1\n",
            "usually in data is 1\n",
            "value in data is 1\n",
            "want in data is 2\n",
            "warrior in data is 1\n",
            "way in data is 1\n",
            "we in data is 3\n",
            "what in data is 1\n",
            "when in data is 2\n",
            "who in data is 4\n",
            "whole in data is 1\n",
            "will in data is 2\n",
            "with in data is 4\n",
            "you in data is 4\n",
            "your in data is 1\n"
          ]
        }
      ]
    },
    {
      "cell_type": "code",
      "source": [
        "count_word[\"a\"]"
      ],
      "metadata": {
        "colab": {
          "base_uri": "https://localhost:8080/"
        },
        "id": "qKoF4DvAlpog",
        "outputId": "e928d667-e716-4e22-ec56-362044093ed0"
      },
      "execution_count": 20,
      "outputs": [
        {
          "output_type": "execute_result",
          "data": {
            "text/plain": [
              "42"
            ]
          },
          "metadata": {},
          "execution_count": 20
        }
      ]
    },
    {
      "cell_type": "markdown",
      "source": [],
      "metadata": {
        "id": "7bVlOTNJnW6Y"
      }
    },
    {
      "cell_type": "code",
      "source": [],
      "metadata": {
        "id": "aePu3HP5mnu7"
      },
      "execution_count": null,
      "outputs": []
    }
  ]
}