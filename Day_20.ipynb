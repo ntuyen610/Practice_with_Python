{
  "nbformat": 4,
  "nbformat_minor": 0,
  "metadata": {
    "colab": {
      "provenance": [],
      "authorship_tag": "ABX9TyPQuSkiZdQraOp5FST20X0U",
      "include_colab_link": true
    },
    "kernelspec": {
      "name": "python3",
      "display_name": "Python 3"
    },
    "language_info": {
      "name": "python"
    }
  },
  "cells": [
    {
      "cell_type": "markdown",
      "metadata": {
        "id": "view-in-github",
        "colab_type": "text"
      },
      "source": [
        "<a href=\"https://colab.research.google.com/github/ntuyen610/Practice_with_Python/blob/main/Day_20.ipynb\" target=\"_parent\"><img src=\"https://colab.research.google.com/assets/colab-badge.svg\" alt=\"Open In Colab\"/></a>"
      ]
    },
    {
      "cell_type": "markdown",
      "source": [
        "# Work with text data\n",
        "- Thư viện newspaper3k: giúp trích xuất dữ liệu từ các bài báo\n",
        "- Tính năng: trích xuất dữ liệu, hỗ trợ nhiều trang web, mã nguồn mở, dễ sử dụng\n",
        "- Thư viện nltk: dùng để xử lí ngôn ngữ tự nhiên, được phát triển bởi Python\n",
        "- Tính năng: Phân tích cú pháp, từ, gán nhãn từ ngữ, tóm tắt văn bản, dịch máy  \n"
      ],
      "metadata": {
        "id": "-jhpRsNBmpso"
      }
    },
    {
      "cell_type": "code",
      "source": [
        "! pip install newspaper3k\n",
        "! pip install nltk"
      ],
      "metadata": {
        "colab": {
          "base_uri": "https://localhost:8080/"
        },
        "id": "tqONrxNmngP5",
        "outputId": "64d14a9d-38f1-40fb-f21a-2e04350125c5"
      },
      "execution_count": null,
      "outputs": [
        {
          "output_type": "stream",
          "name": "stdout",
          "text": [
            "Collecting newspaper3k\n",
            "  Downloading newspaper3k-0.2.8-py3-none-any.whl (211 kB)\n",
            "\u001b[2K     \u001b[90m━━━━━━━━━━━━━━━━━━━━━━━━━━━━━━━━━━━━━━━━\u001b[0m \u001b[32m211.1/211.1 kB\u001b[0m \u001b[31m2.5 MB/s\u001b[0m eta \u001b[36m0:00:00\u001b[0m\n",
            "\u001b[?25hRequirement already satisfied: beautifulsoup4>=4.4.1 in /usr/local/lib/python3.10/dist-packages (from newspaper3k) (4.12.3)\n",
            "Requirement already satisfied: Pillow>=3.3.0 in /usr/local/lib/python3.10/dist-packages (from newspaper3k) (9.4.0)\n",
            "Requirement already satisfied: PyYAML>=3.11 in /usr/local/lib/python3.10/dist-packages (from newspaper3k) (6.0.1)\n",
            "Collecting cssselect>=0.9.2 (from newspaper3k)\n",
            "  Downloading cssselect-1.2.0-py2.py3-none-any.whl (18 kB)\n",
            "Requirement already satisfied: lxml>=3.6.0 in /usr/local/lib/python3.10/dist-packages (from newspaper3k) (4.9.4)\n",
            "Requirement already satisfied: nltk>=3.2.1 in /usr/local/lib/python3.10/dist-packages (from newspaper3k) (3.8.1)\n",
            "Requirement already satisfied: requests>=2.10.0 in /usr/local/lib/python3.10/dist-packages (from newspaper3k) (2.31.0)\n",
            "Collecting feedparser>=5.2.1 (from newspaper3k)\n",
            "  Downloading feedparser-6.0.11-py3-none-any.whl (81 kB)\n",
            "\u001b[2K     \u001b[90m━━━━━━━━━━━━━━━━━━━━━━━━━━━━━━━━━━━━━━━━\u001b[0m \u001b[32m81.3/81.3 kB\u001b[0m \u001b[31m7.4 MB/s\u001b[0m eta \u001b[36m0:00:00\u001b[0m\n",
            "\u001b[?25hCollecting tldextract>=2.0.1 (from newspaper3k)\n",
            "  Downloading tldextract-5.1.2-py3-none-any.whl (97 kB)\n",
            "\u001b[2K     \u001b[90m━━━━━━━━━━━━━━━━━━━━━━━━━━━━━━━━━━━━━━━━\u001b[0m \u001b[32m97.6/97.6 kB\u001b[0m \u001b[31m6.6 MB/s\u001b[0m eta \u001b[36m0:00:00\u001b[0m\n",
            "\u001b[?25hCollecting feedfinder2>=0.0.4 (from newspaper3k)\n",
            "  Downloading feedfinder2-0.0.4.tar.gz (3.3 kB)\n",
            "  Preparing metadata (setup.py) ... \u001b[?25l\u001b[?25hdone\n",
            "Collecting jieba3k>=0.35.1 (from newspaper3k)\n",
            "  Downloading jieba3k-0.35.1.zip (7.4 MB)\n",
            "\u001b[2K     \u001b[90m━━━━━━━━━━━━━━━━━━━━━━━━━━━━━━━━━━━━━━━━\u001b[0m \u001b[32m7.4/7.4 MB\u001b[0m \u001b[31m50.5 MB/s\u001b[0m eta \u001b[36m0:00:00\u001b[0m\n",
            "\u001b[?25h  Preparing metadata (setup.py) ... \u001b[?25l\u001b[?25hdone\n",
            "Requirement already satisfied: python-dateutil>=2.5.3 in /usr/local/lib/python3.10/dist-packages (from newspaper3k) (2.8.2)\n",
            "Collecting tinysegmenter==0.3 (from newspaper3k)\n",
            "  Downloading tinysegmenter-0.3.tar.gz (16 kB)\n",
            "  Preparing metadata (setup.py) ... \u001b[?25l\u001b[?25hdone\n",
            "Requirement already satisfied: soupsieve>1.2 in /usr/local/lib/python3.10/dist-packages (from beautifulsoup4>=4.4.1->newspaper3k) (2.5)\n",
            "Requirement already satisfied: six in /usr/local/lib/python3.10/dist-packages (from feedfinder2>=0.0.4->newspaper3k) (1.16.0)\n",
            "Collecting sgmllib3k (from feedparser>=5.2.1->newspaper3k)\n",
            "  Downloading sgmllib3k-1.0.0.tar.gz (5.8 kB)\n",
            "  Preparing metadata (setup.py) ... \u001b[?25l\u001b[?25hdone\n",
            "Requirement already satisfied: click in /usr/local/lib/python3.10/dist-packages (from nltk>=3.2.1->newspaper3k) (8.1.7)\n",
            "Requirement already satisfied: joblib in /usr/local/lib/python3.10/dist-packages (from nltk>=3.2.1->newspaper3k) (1.3.2)\n",
            "Requirement already satisfied: regex>=2021.8.3 in /usr/local/lib/python3.10/dist-packages (from nltk>=3.2.1->newspaper3k) (2023.12.25)\n",
            "Requirement already satisfied: tqdm in /usr/local/lib/python3.10/dist-packages (from nltk>=3.2.1->newspaper3k) (4.66.2)\n",
            "Requirement already satisfied: charset-normalizer<4,>=2 in /usr/local/lib/python3.10/dist-packages (from requests>=2.10.0->newspaper3k) (3.3.2)\n",
            "Requirement already satisfied: idna<4,>=2.5 in /usr/local/lib/python3.10/dist-packages (from requests>=2.10.0->newspaper3k) (3.6)\n",
            "Requirement already satisfied: urllib3<3,>=1.21.1 in /usr/local/lib/python3.10/dist-packages (from requests>=2.10.0->newspaper3k) (2.0.7)\n",
            "Requirement already satisfied: certifi>=2017.4.17 in /usr/local/lib/python3.10/dist-packages (from requests>=2.10.0->newspaper3k) (2024.2.2)\n",
            "Collecting requests-file>=1.4 (from tldextract>=2.0.1->newspaper3k)\n",
            "  Downloading requests_file-2.0.0-py2.py3-none-any.whl (4.2 kB)\n",
            "Requirement already satisfied: filelock>=3.0.8 in /usr/local/lib/python3.10/dist-packages (from tldextract>=2.0.1->newspaper3k) (3.13.3)\n",
            "Building wheels for collected packages: tinysegmenter, feedfinder2, jieba3k, sgmllib3k\n",
            "  Building wheel for tinysegmenter (setup.py) ... \u001b[?25l\u001b[?25hdone\n",
            "  Created wheel for tinysegmenter: filename=tinysegmenter-0.3-py3-none-any.whl size=13538 sha256=8e88c152c1f9dcef3a149bbc3bfd4555b3c7a2f0aa24c06f8de9e66a79e267e1\n",
            "  Stored in directory: /root/.cache/pip/wheels/c8/d6/6c/384f58df48c00b9a31d638005143b5b3ac62c3d25fb1447f23\n",
            "  Building wheel for feedfinder2 (setup.py) ... \u001b[?25l\u001b[?25hdone\n",
            "  Created wheel for feedfinder2: filename=feedfinder2-0.0.4-py3-none-any.whl size=3340 sha256=4da0a2b01d03989964965e4247dda187696176fece2be46bf6505608f3aa7082\n",
            "  Stored in directory: /root/.cache/pip/wheels/97/02/e7/a1ff1760e12bdbaab0ac824fae5c1bc933e41c4ccd6a8f8edb\n",
            "  Building wheel for jieba3k (setup.py) ... \u001b[?25l\u001b[?25hdone\n",
            "  Created wheel for jieba3k: filename=jieba3k-0.35.1-py3-none-any.whl size=7398382 sha256=90e2be6dd15dd9e92b453a601a2991f985684ef34b7265c13497361837eda380\n",
            "  Stored in directory: /root/.cache/pip/wheels/7a/c4/0c/12a9a314ecac499456c4c3b2fcc2f635a3b45a39dfbd240299\n",
            "  Building wheel for sgmllib3k (setup.py) ... \u001b[?25l\u001b[?25hdone\n",
            "  Created wheel for sgmllib3k: filename=sgmllib3k-1.0.0-py3-none-any.whl size=6049 sha256=ebb7e473d21807a374187a6141fbba52a7a4fe7cfcf5e4a41c2d5cdcef525e41\n",
            "  Stored in directory: /root/.cache/pip/wheels/f0/69/93/a47e9d621be168e9e33c7ce60524393c0b92ae83cf6c6e89c5\n",
            "Successfully built tinysegmenter feedfinder2 jieba3k sgmllib3k\n",
            "Installing collected packages: tinysegmenter, sgmllib3k, jieba3k, feedparser, cssselect, requests-file, feedfinder2, tldextract, newspaper3k\n",
            "Successfully installed cssselect-1.2.0 feedfinder2-0.0.4 feedparser-6.0.11 jieba3k-0.35.1 newspaper3k-0.2.8 requests-file-2.0.0 sgmllib3k-1.0.0 tinysegmenter-0.3 tldextract-5.1.2\n",
            "Requirement already satisfied: nltk in /usr/local/lib/python3.10/dist-packages (3.8.1)\n",
            "Requirement already satisfied: click in /usr/local/lib/python3.10/dist-packages (from nltk) (8.1.7)\n",
            "Requirement already satisfied: joblib in /usr/local/lib/python3.10/dist-packages (from nltk) (1.3.2)\n",
            "Requirement already satisfied: regex>=2021.8.3 in /usr/local/lib/python3.10/dist-packages (from nltk) (2023.12.25)\n",
            "Requirement already satisfied: tqdm in /usr/local/lib/python3.10/dist-packages (from nltk) (4.66.2)\n"
          ]
        }
      ]
    },
    {
      "cell_type": "code",
      "source": [
        "from newspaper import Article\n",
        "article = Article(\"https://vnexpress.net/ky-su-phan-mem-ai-dau-tien-tren-the-gioi-4722040.html?fbclid=IwAR2iWcA0owV8EaNXeGZScED-MwzjFgilbMToxPl7pPCCEdbpdvMgDM3nNG4_aem_AV7rxDwOz3NwwLelkxB9vjaMXLihRlwutPbq6yFfobQJieb9iKBjsADk_ak-vWDSmotb3_WSGe00li9WLugLtAQU\")"
      ],
      "metadata": {
        "id": "fDvRlNV_noh7"
      },
      "execution_count": null,
      "outputs": []
    },
    {
      "cell_type": "code",
      "source": [
        "#Tai bai bao\n",
        "article.download()\n",
        "article.parse()\n",
        "summary = article.text"
      ],
      "metadata": {
        "id": "SuOuJbB8n_EH"
      },
      "execution_count": null,
      "outputs": []
    },
    {
      "cell_type": "code",
      "source": [
        "#In bai bao\n",
        "print(summary)"
      ],
      "metadata": {
        "colab": {
          "base_uri": "https://localhost:8080/"
        },
        "id": "2LYOMdoLoOp-",
        "outputId": "fa2279ff-018e-4e10-b8cf-00586892c393"
      },
      "execution_count": null,
      "outputs": [
        {
          "output_type": "stream",
          "name": "stdout",
          "text": [
            "Kỹ sư phần mềm được tạo từ AI với tên Devin có thể tự lập trình, hoạt động độc lập khi được giao nhiệm vụ, giúp kỹ sư con người giảm bớt thời gian làm việc.\n",
            "\n",
            "Ngày 13/3, Cognition Labs, startup về công nghệ trí tuệ nhân tạo tại Mỹ, công bố kỹ sư phát triển phần mềm AI đầu tiên trên thế giới. \"Devin là một đồng đội tài năng và không biết mệt, sẵn sàng làm cùng bạn hoặc tự hoàn thành nhiệm vụ để bạn đánh giá. Với Devin, các kỹ sư có thể tập trung vào những vấn đề thú vị hơn, các đội kỹ thuật có thể nỗ lực cho những mục tiêu tham vọng hơn\", Cognition cho biết.\n",
            "\n",
            "Minh họa về robot lập trình do ChatGPT tạo ra.\n",
            "\n",
            "Đây là sản phẩm của một nhóm kỹ sư đang làm việc tại nhiều công ty lớn như Google DeepMind, Waymo, Scale AI, được dẫn dắt bởi các kỹ sư gồm Scott Wu, Steven Hao và Walden Yan. Dù hoạt động một thời gian, Cognition Labs mới thực sự được thành lập vào đầu năm nay và gọi vốn được 21 triệu USD. Trong phần giới thiệu, họ mô tả mình là một \"nhóm nhỏ nhưng nhiều tài năng\", với những người sáng lập từng giành được 10 huy chương vàng Olympic Tin học quốc tế.\n",
            "\n",
            "Trước Devin, thế giới cũng có những trợ lý AI hỗ trợ lập trình như Github Copilot hoặc các chatbot ChatGPT, Google Bard. Tuy nhiên, Devin khác biệt vì có thể xử lý toàn bộ quá trình phát triển từ đầu đến cuối.\n",
            "\n",
            "Trong video giới thiệu, Scott Wu, CEO của Cognition Labs, đã mô tả cách người dùng Devin có thể viết code ban đầu, theo dõi dòng lệnh, kiểm tra và sửa lỗi, thậm chí quản lý những dự án trên nền tảng như Upwork. Devin có thể tìm kiếm trên Internet để học cách hoàn thành nhiệm vụ. Nhờ đó, các kỹ sư sẽ có trong tay một nhân viên AI đầy đủ năng lực để tham gia dự án thay vì một trợ lý chỉ có thể gợi ý những đoạn code.\n",
            "\n",
            "Giới thiệu về Devin - kỹ sư lập trình AI đầu tiên thế giới Đồng sáng lập Scott Wu giới thiệu về khả năng lập trình của Devin. Video: cognition-labs\n",
            "\n",
            "Để sử dụng, người dùng nhập câu lệnh bằng ngôn ngữ tự nhiên vào giao diện kiểu chatbot của Devin và kỹ sư AI này sẽ xử lý tiếp. Nó sẽ lên kế hoạch chi tiết để giải quyết vấn đề theo từng bước.\n",
            "\n",
            "Tiếp theo, Devin sẽ khởi động dự án bằng cách sử dụng những công cụ dành cho nhà phát triển. Nó sẽ viết code, khắc phục lỗi, kiểm tra và báo cáo tiến trình theo thời gian thực, cho phép người dùng theo dõi mọi thứ và đề phòng những điều ngoài ý muốn. Nếu thấy sai sót, người dùng có thể vào giao diện chat và ra lệnh cho AI thực hiện thay đổi. Điều này giúp các đội kỹ thuật giao một số nhiệm vụ của mình cho AI và tập trung vào các dự án sáng tạo hơn, đòi hỏi trí thông minh của con người.\n",
            "\n",
            "Trong thử nghiệm của Bloomberg, Devin có thể lập trình trò chơi Pong cơ bản và tạo một trang web trong chưa đầy 20 phút.\n",
            "\n",
            "Theo công bố của nhà phát triển, khi đánh giá dựa trên tiêu chuẩn SWE-Bench về việc giải quyết các vấn đề trên GitHub, Devin giải quyết chính xác 13,86% các vấn mà không cần hỗ trợ. Trong khi với mô hình trước đó, hiệu suất chỉ đạt 1,96% và cao nhất là 4,80% nếu được hỗ trợ.\n",
            "\n",
            "Hiệu suất giải quyết các vấn đề về lập trình của Devin so với các mô hình AI khác. Ảnh: cognition-labs\n",
            "\n",
            "Tuy nhiên, hiện Devin chưa được cung cấp rộng rãi mà chỉ dành cho một số người dùng đã đăng ký trước và được chọn. Nhà phát triển cho biết sản phẩm này chỉ là bước đầu trong việc phát triển các kỹ sư AI của mình.\n",
            "\n",
            "\"Chúng tôi đang phát triển những đồng đội AI với khả năng vượt xa công cụ AI hiện nay. Bằng cách giải quyết vấn đề lý luận, chúng tôi có thể mở ra những khả năng mới trong nhiều lĩnh vực - code chỉ là bước khởi đầu. Chúng tôi muốn giúp mọi người trên thế giới biến ý tưởng của họ thành hiện thực\", Cognition giải thích.\n",
            "\n",
            "Sản phẩm của Cogniton Labs được đánh giá là minh họa rõ nhất cho nhận định trước đó của nhà sáng lập Nvidia Jensen Huang. Tại một sự kiện cuối tháng 2 vừa qua, ông Huang từng gây sốc khi khuyên người trẻ không học viết mã.\n",
            "\n",
            "Theo ông, con người đang ở giai đoạn đầu của cuộc cách mạng AI và lập trình không còn là kỹ năng quan trọng nữa. Ông cho rằng trí tuệ nhân tạo đang đảm nhận công việc này ngày một tốt, do đó con người nên tập trung vào các chuyên môn có giá trị hơn như sinh học, giáo dục, sản xuất hoặc nông nghiệp.\n",
            "\n",
            "Thu Thảo - Lưu Quý\n"
          ]
        }
      ]
    },
    {
      "cell_type": "code",
      "source": [
        "#Lay anh cua bai bao\n",
        "print(article.images)"
      ],
      "metadata": {
        "colab": {
          "base_uri": "https://localhost:8080/"
        },
        "id": "zUkOkmSZoUZP",
        "outputId": "9abb6194-ffc4-4384-8606-c795d68b1634"
      },
      "execution_count": null,
      "outputs": [
        {
          "output_type": "stream",
          "name": "stdout",
          "text": [
            "{'https://s1cdn.vnecdn.net/vnexpress/restruct/c/v2627/v2_2019/pc/images/graphics/menu-myvne.svg', 'https://ivcdn.vnecdn.net/vnexpress/images/web/2024/03/14/gioi-thieu-ve-devin-ky-su-lap-trinh-ai-dau-tien-the-gioi-1710407070.jpg?w=0&h=0&q=100&dpr=1&fit=crop&s=PbARo8gxLhDcPCZTLOSitg', 'https://vcdn-vnexpress.vnecdn.net/2024/03/14/cognition-ai-code-5214-1710406759.png', 'https://s1cdn.vnecdn.net/vnexpress/restruct/i/v874/v2_2019/pc/graphics/logo.svg', 'https://vcdn-vnexpress.vnecdn.net/2024/03/14/ai-coding-1710410299-6906-1710410348.jpg', 'https://i2-vnexpress.vnecdn.net/2024/03/14/ai-coding-1710410299-6906-1710410348.jpg?w=1200&h=0&q=100&dpr=1&fit=crop&s=PucLZQc41TcdHmcrkfIpXg'}\n"
          ]
        }
      ]
    },
    {
      "cell_type": "code",
      "source": [
        "import nltk\n",
        "from nltk.tokenize import word_tokenize\n",
        "\n",
        "nltk.download(\"punkt\")\n",
        "nltk.download('averaged_perceptron_tagger')\n",
        "\n",
        "#Tokenization article\n",
        "tokenization = word_tokenize(summary)\n",
        "\n",
        "#Goi thu vien Pos tagginng\n",
        "result = nltk.pos_tag(tokenization)\n",
        "print(result)"
      ],
      "metadata": {
        "colab": {
          "base_uri": "https://localhost:8080/"
        },
        "id": "v9FKNIWUoas1",
        "outputId": "126835a8-2e64-4d38-cd92-1638f779791e"
      },
      "execution_count": null,
      "outputs": [
        {
          "output_type": "stream",
          "name": "stderr",
          "text": [
            "[nltk_data] Downloading package punkt to /root/nltk_data...\n",
            "[nltk_data]   Package punkt is already up-to-date!\n",
            "[nltk_data] Downloading package averaged_perceptron_tagger to\n",
            "[nltk_data]     /root/nltk_data...\n",
            "[nltk_data]   Unzipping taggers/averaged_perceptron_tagger.zip.\n"
          ]
        },
        {
          "output_type": "stream",
          "name": "stdout",
          "text": [
            "[('Kỹ', 'NNP'), ('sư', 'NN'), ('phần', 'NN'), ('mềm', 'NN'), ('được', 'NNP'), ('tạo', 'NN'), ('từ', 'NN'), ('AI', 'NNP'), ('với', 'NN'), ('tên', 'NN'), ('Devin', 'NNP'), ('có', 'NN'), ('thể', 'NN'), ('tự', 'NN'), ('lập', 'NN'), ('trình', 'NN'), (',', ','), ('hoạt', 'NN'), ('động', 'NNP'), ('độc', 'NNP'), ('lập', 'VBZ'), ('khi', 'FW'), ('được', 'NNP'), ('giao', 'NN'), ('nhiệm', 'NN'), ('vụ', 'NN'), (',', ','), ('giúp', 'NN'), ('kỹ', 'NN'), ('sư', 'NN'), ('con', 'NN'), ('người', 'JJ'), ('giảm', 'NN'), ('bớt', 'NN'), ('thời', 'NN'), ('gian', 'JJ'), ('làm', 'NN'), ('việc', 'NN'), ('.', '.'), ('Ngày', 'CC'), ('13/3', 'CD'), (',', ','), ('Cognition', 'NNP'), ('Labs', 'NNP'), (',', ','), ('startup', 'NN'), ('về', 'NN'), ('công', 'NN'), ('nghệ', 'JJ'), ('trí', 'NN'), ('tuệ', 'NN'), ('nhân', 'JJ'), ('tạo', 'NN'), ('tại', 'NN'), ('Mỹ', 'NNP'), (',', ','), ('công', 'NN'), ('bố', 'NN'), ('kỹ', 'NN'), ('sư', 'NN'), ('phát', 'NN'), ('triển', 'NN'), ('phần', 'NN'), ('mềm', 'NN'), ('AI', 'NNP'), ('đầu', 'NNP'), ('tiên', 'NN'), ('trên', 'NN'), ('thế', 'NN'), ('giới', 'NN'), ('.', '.'), ('``', '``'), ('Devin', 'NNP'), ('là', 'NN'), ('một', 'NN'), ('đồng', 'NNP'), ('đội', 'NNP'), ('tài', 'NN'), ('năng', 'NN'), ('và', 'NN'), ('không', 'NN'), ('biết', 'NN'), ('mệt', 'NN'), (',', ','), ('sẵn', 'JJ'), ('sàng', 'NN'), ('làm', 'NN'), ('cùng', 'NN'), ('bạn', 'NN'), ('hoặc', 'NN'), ('tự', 'NN'), ('hoàn', 'NN'), ('thành', 'NN'), ('nhiệm', 'JJ'), ('vụ', 'NN'), ('để', 'NNP'), ('bạn', 'NN'), ('đánh', 'NNP'), ('giá', 'NN'), ('.', '.'), ('Với', 'NNP'), ('Devin', 'NNP'), (',', ','), ('các', 'NN'), ('kỹ', 'NN'), ('sư', 'NN'), ('có', 'NN'), ('thể', 'NN'), ('tập', 'NN'), ('trung', 'NN'), ('vào', 'NN'), ('những', 'JJ'), ('vấn', 'NN'), ('đề', 'NNP'), ('thú', 'NN'), ('vị', 'NN'), ('hơn', 'NN'), (',', ','), ('các', 'NN'), ('đội', 'NNP'), ('kỹ', 'NNP'), ('thuật', 'NN'), ('có', 'NN'), ('thể', 'NN'), ('nỗ', 'JJ'), ('lực', 'NN'), ('cho', 'NN'), ('những', 'JJ'), ('mục', 'NN'), ('tiêu', 'NN'), ('tham', 'NN'), ('vọng', 'NN'), ('hơn', 'NN'), (\"''\", \"''\"), (',', ','), ('Cognition', 'NNP'), ('cho', 'NN'), ('biết', 'NN'), ('.', '.'), ('Minh', 'NNP'), ('họa', 'NN'), ('về', 'NN'), ('robot', 'NN'), ('lập', 'NN'), ('trình', 'NN'), ('do', 'VBP'), ('ChatGPT', 'NNP'), ('tạo', 'VB'), ('ra', 'NN'), ('.', '.'), ('Đây', 'CC'), ('là', 'JJ'), ('sản', 'NN'), ('phẩm', 'NN'), ('của', 'NN'), ('một', 'NN'), ('nhóm', 'JJ'), ('kỹ', 'NN'), ('sư', 'NN'), ('đang', 'NNP'), ('làm', 'NN'), ('việc', 'NN'), ('tại', 'NN'), ('nhiều', 'JJ'), ('công', 'NN'), ('ty', 'NN'), ('lớn', 'NN'), ('như', 'JJ'), ('Google', 'NNP'), ('DeepMind', 'NNP'), (',', ','), ('Waymo', 'NNP'), (',', ','), ('Scale', 'NNP'), ('AI', 'NNP'), (',', ','), ('được', 'NNP'), ('dẫn', 'VBZ'), ('dắt', 'JJ'), ('bởi', 'NN'), ('các', 'NN'), ('kỹ', 'NN'), ('sư', 'NN'), ('gồm', 'NN'), ('Scott', 'NNP'), ('Wu', 'NNP'), (',', ','), ('Steven', 'NNP'), ('Hao', 'NNP'), ('và', 'FW'), ('Walden', 'NNP'), ('Yan', 'NNP'), ('.', '.'), ('Dù', 'NNP'), ('hoạt', 'NN'), ('động', 'NNP'), ('một', 'NN'), ('thời', 'NN'), ('gian', 'NN'), (',', ','), ('Cognition', 'NNP'), ('Labs', 'NNP'), ('mới', 'NN'), ('thực', 'NN'), ('sự', 'NN'), ('được', 'NNP'), ('thành', 'NN'), ('lập', 'NN'), ('vào', 'NN'), ('đầu', 'NNP'), ('năm', 'CC'), ('nay', 'JJ'), ('và', 'NN'), ('gọi', 'NN'), ('vốn', 'NN'), ('được', 'VBD'), ('21', 'CD'), ('triệu', 'NN'), ('USD', 'NNP'), ('.', '.'), ('Trong', 'NNP'), ('phần', 'JJ'), ('giới', 'NN'), ('thiệu', 'NN'), (',', ','), ('họ', 'NN'), ('mô', 'NN'), ('tả', 'NN'), ('mình', 'NN'), ('là', 'NN'), ('một', 'NN'), ('``', '``'), ('nhóm', 'JJ'), ('nhỏ', 'NN'), ('nhưng', 'NN'), ('nhiều', 'JJ'), ('tài', 'NN'), ('năng', 'NN'), (\"''\", \"''\"), (',', ','), ('với', 'FW'), ('những', 'FW'), ('người', 'FW'), ('sáng', 'FW'), ('lập', 'FW'), ('từng', 'NN'), ('giành', 'NN'), ('được', 'VBD'), ('10', 'CD'), ('huy', 'NN'), ('chương', 'NN'), ('vàng', 'NN'), ('Olympic', 'NNP'), ('Tin', 'NNP'), ('học', 'NN'), ('quốc', 'NN'), ('tế', 'NN'), ('.', '.'), ('Trước', 'NNP'), ('Devin', 'NNP'), (',', ','), ('thế', 'NN'), ('giới', 'NN'), ('cũng', 'NN'), ('có', 'NN'), ('những', 'JJ'), ('trợ', 'NN'), ('lý', 'NN'), ('AI', 'NNP'), ('hỗ', 'NN'), ('trợ', 'NN'), ('lập', 'NN'), ('trình', 'NN'), ('như', 'JJ'), ('Github', 'NNP'), ('Copilot', 'NNP'), ('hoặc', 'NN'), ('các', 'NN'), ('chatbot', 'NN'), ('ChatGPT', 'NNP'), (',', ','), ('Google', 'NNP'), ('Bard', 'NNP'), ('.', '.'), ('Tuy', 'NNP'), ('nhiên', 'NN'), (',', ','), ('Devin', 'NNP'), ('khác', 'NNP'), ('biệt', 'NN'), ('vì', 'NN'), ('có', 'NN'), ('thể', 'NN'), ('xử', 'NNP'), ('lý', 'VBZ'), ('toàn', 'JJ'), ('bộ', 'NN'), ('quá', 'NN'), ('trình', 'NN'), ('phát', 'NN'), ('triển', 'NN'), ('từ', 'NN'), ('đầu', 'NNP'), ('đến', 'NNP'), ('cuối', 'NN'), ('.', '.'), ('Trong', 'NNP'), ('video', 'NN'), ('giới', 'NN'), ('thiệu', 'NN'), (',', ','), ('Scott', 'NNP'), ('Wu', 'NNP'), (',', ','), ('CEO', 'NNP'), ('của', 'VBZ'), ('Cognition', 'NNP'), ('Labs', 'NNP'), (',', ','), ('đã', 'NNP'), ('mô', 'NNP'), ('tả', 'NN'), ('cách', 'NN'), ('người', 'JJ'), ('dùng', 'NN'), ('Devin', 'NNP'), ('có', 'NN'), ('thể', 'NN'), ('viết', 'NN'), ('code', 'NN'), ('ban', 'NN'), ('đầu', 'NNP'), (',', ','), ('theo', 'NN'), ('dõi', 'NN'), ('dòng', 'NN'), ('lệnh', 'NN'), (',', ','), ('kiểm', 'VB'), ('tra', 'JJ'), ('và', 'NN'), ('sửa', 'NN'), ('lỗi', 'NN'), (',', ','), ('thậm', 'JJ'), ('chí', 'NN'), ('quản', 'NN'), ('lý', 'NN'), ('những', 'JJ'), ('dự', 'NN'), ('án', 'NNP'), ('trên', 'NN'), ('nền', 'NN'), ('tảng', 'NN'), ('như', 'JJ'), ('Upwork', 'NNP'), ('.', '.'), ('Devin', 'NNP'), ('có', 'NN'), ('thể', 'NN'), ('tìm', 'NN'), ('kiếm', 'NN'), ('trên', 'JJ'), ('Internet', 'NNP'), ('để', 'NNP'), ('học', 'NN'), ('cách', 'NN'), ('hoàn', 'NN'), ('thành', 'NN'), ('nhiệm', 'JJ'), ('vụ', 'NN'), ('.', '.'), ('Nhờ', 'NNP'), ('đó', 'NNP'), (',', ','), ('các', 'NN'), ('kỹ', 'NN'), ('sư', 'NN'), ('sẽ', 'NN'), ('có', 'NN'), ('trong', 'JJ'), ('tay', 'NN'), ('một', 'NN'), ('nhân', 'JJ'), ('viên', 'NN'), ('AI', 'NNP'), ('đầy', 'NNP'), ('đủ', 'NNP'), ('năng', 'MD'), ('lực', 'VB'), ('để', 'NNP'), ('tham', 'NNP'), ('gia', 'NN'), ('dự', 'NN'), ('án', 'NNP'), ('thay', 'NN'), ('vì', 'NN'), ('một', 'NN'), ('trợ', 'NN'), ('lý', 'NN'), ('chỉ', 'NN'), ('có', 'NN'), ('thể', 'NN'), ('gợi', 'NN'), ('ý', 'NNP'), ('những', 'CC'), ('đoạn', 'NNP'), ('code', 'NN'), ('.', '.'), ('Giới', 'NNP'), ('thiệu', 'JJ'), ('về', 'NN'), ('Devin', 'NNP'), ('-', ':'), ('kỹ', 'NN'), ('sư', 'NN'), ('lập', 'NN'), ('trình', 'NN'), ('AI', 'NNP'), ('đầu', 'NNP'), ('tiên', 'NN'), ('thế', 'NN'), ('giới', 'NN'), ('Đồng', 'NNP'), ('sáng', 'NN'), ('lập', 'NN'), ('Scott', 'NNP'), ('Wu', 'NNP'), ('giới', 'NN'), ('thiệu', 'NN'), ('về', 'NN'), ('khả', 'NN'), ('năng', 'JJ'), ('lập', 'NN'), ('trình', 'NN'), ('của', 'NN'), ('Devin', 'NNP'), ('.', '.'), ('Video', 'NN'), (':', ':'), ('cognition-labs', 'JJ'), ('Để', 'NNP'), ('sử', 'NN'), ('dụng', 'NN'), (',', ','), ('người', 'JJ'), ('dùng', 'NN'), ('nhập', 'NN'), ('câu', 'NN'), ('lệnh', 'NN'), ('bằng', 'NN'), ('ngôn', 'JJ'), ('ngữ', 'JJ'), ('tự', 'NN'), ('nhiên', 'NN'), ('vào', 'NN'), ('giao', 'NN'), ('diện', 'NN'), ('kiểu', 'NN'), ('chatbot', 'NN'), ('của', 'NN'), ('Devin', 'NNP'), ('và', 'NN'), ('kỹ', 'NN'), ('sư', 'NN'), ('AI', 'NNP'), ('này', 'CC'), ('sẽ', 'JJ'), ('xử', 'NNP'), ('lý', 'NN'), ('tiếp', 'NN'), ('.', '.'), ('Nó', 'NNP'), ('sẽ', 'VBD'), ('lên', 'JJ'), ('kế', 'NN'), ('hoạch', 'NN'), ('chi', 'NN'), ('tiết', 'NN'), ('để', 'NNP'), ('giải', 'NN'), ('quyết', 'NN'), ('vấn', 'NN'), ('đề', 'NNP'), ('theo', 'NN'), ('từng', 'NN'), ('bước', 'NN'), ('.', '.'), ('Tiếp', 'NNP'), ('theo', 'NN'), (',', ','), ('Devin', 'NNP'), ('sẽ', 'NN'), ('khởi', 'NN'), ('động', 'NNP'), ('dự', 'NN'), ('án', 'NNP'), ('bằng', 'NN'), ('cách', 'NN'), ('sử', 'NN'), ('dụng', 'NN'), ('những', 'JJ'), ('công', 'NN'), ('cụ', 'NN'), ('dành', 'NN'), ('cho', 'NN'), ('nhà', 'JJ'), ('phát', 'NN'), ('triển', 'NN'), ('.', '.'), ('Nó', 'NNP'), ('sẽ', 'VBD'), ('viết', 'JJ'), ('code', 'NN'), (',', ','), ('khắc', 'VB'), ('phục', 'NN'), ('lỗi', 'NN'), (',', ','), ('kiểm', 'VB'), ('tra', 'JJ'), ('và', 'NN'), ('báo', 'NN'), ('cáo', 'NN'), ('tiến', 'NN'), ('trình', 'NN'), ('theo', 'NN'), ('thời', 'NN'), ('gian', 'JJ'), ('thực', 'NN'), (',', ','), ('cho', 'JJ'), ('phép', 'NN'), ('người', 'NN'), ('dùng', 'NN'), ('theo', 'NN'), ('dõi', 'NN'), ('mọi', 'NN'), ('thứ', 'NN'), ('và', 'NN'), ('đề', 'NNP'), ('phòng', 'NN'), ('những', 'NN'), ('điều', 'NNP'), ('ngoài', 'CC'), ('ý', 'NNP'), ('muốn', 'NN'), ('.', '.'), ('Nếu', 'NNP'), ('thấy', 'JJ'), ('sai', 'NN'), ('sót', 'NN'), (',', ','), ('người', 'JJ'), ('dùng', 'NN'), ('có', 'NN'), ('thể', 'NN'), ('vào', 'NN'), ('giao', 'NN'), ('diện', 'NN'), ('chat', 'WP'), ('và', 'VBZ'), ('ra', 'NN'), ('lệnh', 'NN'), ('cho', 'NN'), ('AI', 'NNP'), ('thực', 'NN'), ('hiện', 'NN'), ('thay', 'NN'), ('đổi', 'NNP'), ('.', '.'), ('Điều', 'VB'), ('này', 'JJ'), ('giúp', 'NN'), ('các', 'NN'), ('đội', 'NNP'), ('kỹ', 'NNP'), ('thuật', 'NN'), ('giao', 'NN'), ('một', 'NN'), ('số', 'NN'), ('nhiệm', 'JJ'), ('vụ', 'NN'), ('của', 'NN'), ('mình', 'NN'), ('cho', 'NN'), ('AI', 'NNP'), ('và', 'NN'), ('tập', 'NN'), ('trung', 'NN'), ('vào', 'NN'), ('các', 'NN'), ('dự', 'NN'), ('án', 'NNP'), ('sáng', 'NN'), ('tạo', 'NN'), ('hơn', 'NN'), (',', ','), ('đòi', 'NNP'), ('hỏi', 'VBZ'), ('trí', 'JJ'), ('thông', 'NN'), ('minh', 'NN'), ('của', 'NN'), ('con', 'NN'), ('người', 'NN'), ('.', '.'), ('Trong', 'NNP'), ('thử', 'JJ'), ('nghiệm', 'NN'), ('của', 'NN'), ('Bloomberg', 'NNP'), (',', ','), ('Devin', 'NNP'), ('có', 'NN'), ('thể', 'NN'), ('lập', 'NN'), ('trình', 'NN'), ('trò', 'NN'), ('chơi', 'NN'), ('Pong', 'NNP'), ('cơ', 'NN'), ('bản', 'NN'), ('và', 'NN'), ('tạo', 'NN'), ('một', 'NN'), ('trang', 'NN'), ('web', 'NN'), ('trong', 'JJ'), ('chưa', 'NN'), ('đầy', 'VBD'), ('20', 'CD'), ('phút', 'NN'), ('.', '.'), ('Theo', 'NNP'), ('công', 'NN'), ('bố', 'NN'), ('của', 'NN'), ('nhà', 'JJ'), ('phát', 'NN'), ('triển', 'NN'), (',', ','), ('khi', 'VB'), ('đánh', 'NNP'), ('giá', 'NN'), ('dựa', 'NN'), ('trên', 'NN'), ('tiêu', 'NN'), ('chuẩn', 'VBD'), ('SWE-Bench', 'JJ'), ('về', 'NN'), ('việc', 'NN'), ('giải', 'NN'), ('quyết', 'NN'), ('các', 'NN'), ('vấn', 'NN'), ('đề', 'NNP'), ('trên', 'NN'), ('GitHub', 'NNP'), (',', ','), ('Devin', 'NNP'), ('giải', 'NN'), ('quyết', 'NN'), ('chính', 'NN'), ('xác', 'VBD'), ('13,86', 'CD'), ('%', 'NN'), ('các', 'NN'), ('vấn', 'NN'), ('mà', 'NN'), ('không', 'NN'), ('cần', 'NN'), ('hỗ', 'NN'), ('trợ', 'NN'), ('.', '.'), ('Trong', 'NNP'), ('khi', 'VBD'), ('với', 'JJ'), ('mô', 'NN'), ('hình', 'NN'), ('trước', 'NN'), ('đó', 'NNP'), (',', ','), ('hiệu', 'NN'), ('suất', 'NN'), ('chỉ', 'NN'), ('đạt', 'VBD'), ('1,96', 'CD'), ('%', 'NN'), ('và', 'NN'), ('cao', 'NN'), ('nhất', 'JJ'), ('là', 'RB'), ('4,80', 'CD'), ('%', 'NN'), ('nếu', 'JJ'), ('được', 'NNP'), ('hỗ', 'NN'), ('trợ', 'NN'), ('.', '.'), ('Hiệu', 'NNP'), ('suất', 'VBD'), ('giải', 'JJ'), ('quyết', 'NN'), ('các', 'NN'), ('vấn', 'NN'), ('đề', 'NNP'), ('về', 'NN'), ('lập', 'NN'), ('trình', 'NN'), ('của', 'NN'), ('Devin', 'NNP'), ('so', 'RB'), ('với', 'JJ'), ('các', 'NN'), ('mô', 'NN'), ('hình', 'NN'), ('AI', 'NNP'), ('khác', 'NN'), ('.', '.'), ('Ảnh', 'NN'), (':', ':'), ('cognition-labs', 'JJ'), ('Tuy', 'NNP'), ('nhiên', 'NN'), (',', ','), ('hiện', 'NN'), ('Devin', 'NNP'), ('chưa', 'NN'), ('được', 'NNP'), ('cung', 'NN'), ('cấp', 'NN'), ('rộng', 'NN'), ('rãi', 'NN'), ('mà', 'NN'), ('chỉ', 'NN'), ('dành', 'NN'), ('cho', 'NN'), ('một', 'NN'), ('số', 'NN'), ('người', 'JJ'), ('dùng', 'NN'), ('đã', 'NNP'), ('đăng', 'NNP'), ('ký', 'NNP'), ('trước', 'NN'), ('và', 'NN'), ('được', 'NNP'), ('chọn', 'NN'), ('.', '.'), ('Nhà', 'NNP'), ('phát', 'NN'), ('triển', 'NN'), ('cho', 'NN'), ('biết', 'NN'), ('sản', 'NN'), ('phẩm', 'NN'), ('này', 'JJ'), ('chỉ', 'NN'), ('là', 'NN'), ('bước', 'NN'), ('đầu', 'NNP'), ('trong', 'RB'), ('việc', 'RB'), ('phát', 'JJ'), ('triển', 'NN'), ('các', 'NN'), ('kỹ', 'NN'), ('sư', 'NN'), ('AI', 'NNP'), ('của', 'NN'), ('mình', 'NN'), ('.', '.'), ('``', '``'), ('Chúng', 'NNP'), ('tôi', 'NN'), ('đang', 'NNP'), ('phát', 'NN'), ('triển', 'NN'), ('những', 'JJ'), ('đồng', 'NNP'), ('đội', 'NNP'), ('AI', 'NNP'), ('với', 'NN'), ('khả', 'NN'), ('năng', 'JJ'), ('vượt', 'NN'), ('xa', 'NNP'), ('công', 'NN'), ('cụ', 'NN'), ('AI', 'NNP'), ('hiện', 'NN'), ('nay', 'NN'), ('.', '.'), ('Bằng', 'NNP'), ('cách', 'NN'), ('giải', 'NN'), ('quyết', 'NN'), ('vấn', 'NN'), ('đề', 'NNP'), ('lý', 'NN'), ('luận', 'NN'), (',', ','), ('chúng', 'NN'), ('tôi', 'NN'), ('có', 'NN'), ('thể', 'NN'), ('mở', 'NN'), ('ra', 'NN'), ('những', 'JJ'), ('khả', 'NN'), ('năng', 'NN'), ('mới', 'NN'), ('trong', 'JJ'), ('nhiều', 'JJ'), ('lĩnh', 'NN'), ('vực', 'SYM'), ('-', ':'), ('code', 'NN'), ('chỉ', 'NN'), ('là', 'NN'), ('bước', 'NN'), ('khởi', 'NN'), ('đầu', 'NNP'), ('.', '.'), ('Chúng', 'NNP'), ('tôi', 'JJ'), ('muốn', 'NN'), ('giúp', 'NN'), ('mọi', 'NN'), ('người', 'JJ'), ('trên', 'NN'), ('thế', 'NN'), ('giới', 'NN'), ('biến', 'NN'), ('ý', 'NNP'), ('tưởng', 'NN'), ('của', 'NN'), ('họ', 'NN'), ('thành', 'NN'), ('hiện', 'NN'), ('thực', 'NN'), (\"''\", \"''\"), (',', ','), ('Cognition', 'NNP'), ('giải', 'NN'), ('thích', 'NN'), ('.', '.'), ('Sản', 'NNP'), ('phẩm', 'NN'), ('của', 'NN'), ('Cogniton', 'NNP'), ('Labs', 'NNP'), ('được', 'NNP'), ('đánh', 'NNP'), ('giá', 'NN'), ('là', 'NN'), ('minh', 'NN'), ('họa', 'NN'), ('rõ', 'NN'), ('nhất', 'JJ'), ('cho', 'NN'), ('nhận', 'NN'), ('định', 'NNP'), ('trước', 'NN'), ('đó', 'NNP'), ('của', 'NN'), ('nhà', 'NN'), ('sáng', 'NN'), ('lập', 'JJ'), ('Nvidia', 'NNP'), ('Jensen', 'NNP'), ('Huang', 'NNP'), ('.', '.'), ('Tại', 'NNP'), ('một', 'NN'), ('sự', 'NN'), ('kiện', 'NN'), ('cuối', 'NN'), ('tháng', 'VBD'), ('2', 'CD'), ('vừa', 'NN'), ('qua', 'NN'), (',', ','), ('ông', 'NNP'), ('Huang', 'NNP'), ('từng', 'VBD'), ('gây', 'JJ'), ('sốc', 'NN'), ('khi', 'NN'), ('khuyên', 'NN'), ('người', 'JJ'), ('trẻ', 'NN'), ('không', 'NN'), ('học', 'NN'), ('viết', 'NN'), ('mã', 'NN'), ('.', '.'), ('Theo', 'NNP'), ('ông', 'NNP'), (',', ','), ('con', 'NN'), ('người', 'NN'), ('đang', 'NNP'), ('ở', 'NNP'), ('giai', 'NN'), ('đoạn', 'NNP'), ('đầu', 'NNP'), ('của', 'NN'), ('cuộc', 'NN'), ('cách', 'NN'), ('mạng', 'NN'), ('AI', 'NNP'), ('và', 'NN'), ('lập', 'NN'), ('trình', 'NN'), ('không', 'NN'), ('còn', 'NN'), ('là', 'NN'), ('kỹ', 'NN'), ('năng', 'JJ'), ('quan', 'JJ'), ('trọng', 'NN'), ('nữa', 'NN'), ('.', '.'), ('Ông', 'CC'), ('cho', 'JJ'), ('rằng', 'NN'), ('trí', 'NN'), ('tuệ', 'NN'), ('nhân', 'JJ'), ('tạo', 'NN'), ('đang', 'NNP'), ('đảm', 'NNP'), ('nhận', 'MD'), ('công', 'VB'), ('việc', 'JJ'), ('này', 'JJ'), ('ngày', 'NN'), ('một', 'NN'), ('tốt', 'NN'), (',', ','), ('do', 'VBP'), ('đó', 'VB'), ('con', 'VB'), ('người', 'JJ'), ('nên', 'JJ'), ('tập', 'NN'), ('trung', 'NN'), ('vào', 'NN'), ('các', 'NN'), ('chuyên', 'NN'), ('môn', 'NN'), ('có', 'NN'), ('giá', 'NN'), ('trị', 'NN'), ('hơn', 'NN'), ('như', 'JJ'), ('sinh', 'NN'), ('học', 'NN'), (',', ','), ('giáo', 'NN'), ('dục', 'NN'), (',', ','), ('sản', 'JJ'), ('xuất', 'NNP'), ('hoặc', 'NN'), ('nông', 'NN'), ('nghiệp', 'NN'), ('.', '.'), ('Thu', 'NNP'), ('Thảo', 'NNP'), ('-', ':'), ('Lưu', 'NNP'), ('Quý', 'NNP')]\n"
          ]
        }
      ]
    }
  ]
}