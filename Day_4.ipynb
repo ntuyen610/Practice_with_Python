{
  "nbformat": 4,
  "nbformat_minor": 0,
  "metadata": {
    "colab": {
      "provenance": [],
      "authorship_tag": "ABX9TyPNkqQcvGRcY27JNOmGk8+N",
      "include_colab_link": true
    },
    "kernelspec": {
      "name": "python3",
      "display_name": "Python 3"
    },
    "language_info": {
      "name": "python"
    }
  },
  "cells": [
    {
      "cell_type": "markdown",
      "metadata": {
        "id": "view-in-github",
        "colab_type": "text"
      },
      "source": [
        "<a href=\"https://colab.research.google.com/github/ntuyen610/Practice_with_Python/blob/main/Day_4.ipynb\" target=\"_parent\"><img src=\"https://colab.research.google.com/assets/colab-badge.svg\" alt=\"Open In Colab\"/></a>"
      ]
    },
    {
      "cell_type": "code",
      "execution_count": 3,
      "metadata": {
        "colab": {
          "base_uri": "https://localhost:8080/"
        },
        "id": "d_FtQOSqSiPd",
        "outputId": "05a34d3e-dbf5-4b3e-f1e4-6d3bdba7dca2"
      },
      "outputs": [
        {
          "output_type": "stream",
          "name": "stdout",
          "text": [
            "Alice is a great teacher!\n"
          ]
        }
      ],
      "source": [
        "name = \"Alice\"\n",
        "print(f'{name} is a great teacher!')"
      ]
    },
    {
      "cell_type": "code",
      "source": [
        "name = 'ms Taylor'\n",
        "\n",
        "# Title case the name\n",
        "title_name =name.title()\n",
        "print(title_name)\n",
        "\n",
        "# Upper case the name\n",
        "upper_name = name.upper()\n",
        "print(upper_name)\n",
        "\n",
        "#Lower case the name\n",
        "lower_name = name.lower()\n",
        "print(lower_name)"
      ],
      "metadata": {
        "colab": {
          "base_uri": "https://localhost:8080/"
        },
        "id": "pbX2qQgBSuC6",
        "outputId": "9c794a3c-bd33-42d8-bb12-1c7a28d66d72"
      },
      "execution_count": 4,
      "outputs": [
        {
          "output_type": "stream",
          "name": "stdout",
          "text": [
            "Ms Taylor\n",
            "MS TAYLOR\n",
            "ms taylor\n"
          ]
        }
      ]
    },
    {
      "cell_type": "code",
      "source": [],
      "metadata": {
        "id": "Y6fvSeruS-yH"
      },
      "execution_count": null,
      "outputs": []
    }
  ]
}